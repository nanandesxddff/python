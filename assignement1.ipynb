{
 "cells": [
  {
   "cell_type": "code",
   "execution_count": null,
   "id": "59a38165-67ac-42a6-b195-e9597a7e7270",
   "metadata": {},
   "outputs": [],
   "source": [
    "Q1.  Explain with an example each when to use a for loop and a while loop."
   ]
  },
  {
   "cell_type": "code",
   "execution_count": null,
   "id": "8bba7bd1-291b-4f30-812d-4c2e5a36c13d",
   "metadata": {},
   "outputs": [],
   "source": [
    "# for loop"
   ]
  },
  {
   "cell_type": "code",
   "execution_count": 4,
   "id": "f9ddbc53-7154-41e8-948e-e9c5ca96ed52",
   "metadata": {},
   "outputs": [
    {
     "name": "stdout",
     "output_type": "stream",
     "text": [
      "0\n",
      "1\n",
      "1\n",
      "2\n",
      "3\n",
      "5\n",
      "8\n",
      "13\n",
      "21\n",
      "34\n"
     ]
    }
   ],
   "source": [
    "#finonacci series\n",
    "a , b = 0,1\n",
    "for i in range (10) :\n",
    "      print(a)\n",
    "      c = a+b\n",
    "      a = b\n",
    "      b = c"
   ]
  },
  {
   "cell_type": "code",
   "execution_count": null,
   "id": "3ba00e5f-7e61-4aaf-9f46-ad71f18a5f8c",
   "metadata": {},
   "outputs": [],
   "source": [
    "# while loop"
   ]
  },
  {
   "cell_type": "code",
   "execution_count": 5,
   "id": "ae922940-a005-4978-9ef4-3ec83be5b05b",
   "metadata": {},
   "outputs": [
    {
     "name": "stdin",
     "output_type": "stream",
     "text": [
      "enter your number of element you are looking for 10\n"
     ]
    },
    {
     "name": "stdout",
     "output_type": "stream",
     "text": [
      "0\n",
      "1\n",
      "1\n",
      "2\n",
      "3\n",
      "5\n",
      "8\n",
      "13\n",
      "21\n",
      "34\n"
     ]
    }
   ],
   "source": [
    "number = int(input(\"enter your number of element you are looking for\"))\n",
    "a , b = 0,1\n",
    "counter = 0\n",
    "while counter < number :\n",
    "    print(a)\n",
    "    c = a+b\n",
    "    a = b\n",
    "    b = c\n",
    "    counter =counter +1\n",
    "    "
   ]
  },
  {
   "cell_type": "code",
   "execution_count": null,
   "id": "624dc734-dc36-48fe-82f0-4824de7f19ce",
   "metadata": {},
   "outputs": [],
   "source": [
    "Q2.  Write a python program to print the sum and product of the first 10 natural numbers using for\n",
    "and while loop."
   ]
  },
  {
   "cell_type": "code",
   "execution_count": 6,
   "id": "17cb14d0-6c25-427b-8bd0-83acfa72ec16",
   "metadata": {},
   "outputs": [
    {
     "name": "stdout",
     "output_type": "stream",
     "text": [
      "Using for loop:\n",
      "Sum of the first 10 natural numbers: 55\n",
      "Product of the first 10 natural numbers: 3628800\n"
     ]
    }
   ],
   "source": [
    "# Calculate sum and product using a for loop\n",
    "sum_for = 0\n",
    "product_for = 1\n",
    "\n",
    "for num in range(1, 11):\n",
    "    sum_for += num\n",
    "    product_for *= num\n",
    "\n",
    "print(\"Using for loop:\")\n",
    "print(\"Sum of the first 10 natural numbers:\", sum_for)\n",
    "print(\"Product of the first 10 natural numbers:\", product_for)\n"
   ]
  },
  {
   "cell_type": "code",
   "execution_count": 7,
   "id": "db55cbe3-951f-4b08-be60-f0e5a57642f3",
   "metadata": {},
   "outputs": [
    {
     "name": "stdout",
     "output_type": "stream",
     "text": [
      "\n",
      "Using while loop:\n",
      "Sum of the first 10 natural numbers: 55\n",
      "Product of the first 10 natural numbers: 3628800\n"
     ]
    }
   ],
   "source": [
    "# Calculate sum and product using a while loop\n",
    "sum_while = 0\n",
    "product_while = 1\n",
    "counter = 1\n",
    "\n",
    "while counter <= 10:\n",
    "    sum_while += counter\n",
    "    product_while *= counter\n",
    "    counter += 1\n",
    "\n",
    "print(\"\\nUsing while loop:\")\n",
    "print(\"Sum of the first 10 natural numbers:\", sum_while)\n",
    "print(\"Product of the first 10 natural numbers:\", product_while)\n"
   ]
  },
  {
   "cell_type": "code",
   "execution_count": null,
   "id": "ec715b5e-d941-41fd-a254-005649604ea0",
   "metadata": {},
   "outputs": [],
   "source": [
    "Q4. Create a list of numbers from 1 to 100. Use for loop and while loop to calculate the cube of each\n",
    "number and if the cube of that number is divisible by 4 or 5 then append that number in a list and print\n",
    "that list."
   ]
  },
  {
   "cell_type": "code",
   "execution_count": 8,
   "id": "d98e537e-de1d-484f-9ae1-426bfc6a1518",
   "metadata": {},
   "outputs": [
    {
     "name": "stdout",
     "output_type": "stream",
     "text": [
      "Using for loop:\n",
      "Numbers whose cube is divisible by 4 or 5: [2, 4, 5, 6, 8, 10, 12, 14, 15, 16, 18, 20, 22, 24, 25, 26, 28, 30, 32, 34, 35, 36, 38, 40, 42, 44, 45, 46, 48, 50, 52, 54, 55, 56, 58, 60, 62, 64, 65, 66, 68, 70, 72, 74, 75, 76, 78, 80, 82, 84, 85, 86, 88, 90, 92, 94, 95, 96, 98, 100]\n"
     ]
    }
   ],
   "source": [
    "# Using for loop\n",
    "numbers = list(range(1, 101))\n",
    "result_list = []\n",
    "\n",
    "for num in numbers:\n",
    "    cube = num ** 3\n",
    "    if cube % 4 == 0 or cube % 5 == 0:\n",
    "        result_list.append(num)\n",
    "\n",
    "print(\"Using for loop:\")\n",
    "print(\"Numbers whose cube is divisible by 4 or 5:\", result_list)\n"
   ]
  },
  {
   "cell_type": "code",
   "execution_count": 9,
   "id": "778801fb-3337-4458-8610-5e7e24c95e1c",
   "metadata": {},
   "outputs": [
    {
     "name": "stdout",
     "output_type": "stream",
     "text": [
      "\n",
      "Using while loop:\n",
      "Numbers whose cube is divisible by 4 or 5: [2, 4, 5, 6, 8, 10, 12, 14, 15, 16, 18, 20, 22, 24, 25, 26, 28, 30, 32, 34, 35, 36, 38, 40, 42, 44, 45, 46, 48, 50, 52, 54, 55, 56, 58, 60, 62, 64, 65, 66, 68, 70, 72, 74, 75, 76, 78, 80, 82, 84, 85, 86, 88, 90, 92, 94, 95, 96, 98, 100]\n"
     ]
    }
   ],
   "source": [
    "# Using while loop\n",
    "numbers = list(range(1, 101))\n",
    "result_list = []\n",
    "\n",
    "counter = 0\n",
    "while counter < len(numbers):\n",
    "    cube = numbers[counter] ** 3\n",
    "    if cube % 4 == 0 or cube % 5 == 0:\n",
    "        result_list.append(numbers[counter])\n",
    "    counter += 1\n",
    "\n",
    "print(\"\\nUsing while loop:\")\n",
    "print(\"Numbers whose cube is divisible by 4 or 5:\", result_list)\n"
   ]
  },
  {
   "cell_type": "code",
   "execution_count": null,
   "id": "31185140-8b79-4710-9b78-3f507e7edfde",
   "metadata": {},
   "outputs": [],
   "source": [
    "Q5.  Write a program to filter count vowels in the below-given string.\n",
    "\n",
    "string = \"I want to become a data scientist\""
   ]
  },
  {
   "cell_type": "code",
   "execution_count": 10,
   "id": "ffd881de-d05b-4efe-a2d1-5511ba137b5c",
   "metadata": {},
   "outputs": [
    {
     "name": "stdout",
     "output_type": "stream",
     "text": [
      "Number of vowels: 12\n"
     ]
    }
   ],
   "source": [
    "string = \"I want to become a data scientist\"\n",
    "vowels = \"aeiouAEIOU\"  # List of vowels\n",
    "\n",
    "vowel_count = 0\n",
    "for char in string:\n",
    "    if char in vowels:\n",
    "        vowel_count += 1\n",
    "\n",
    "print(\"Number of vowels:\", vowel_count)\n"
   ]
  },
  {
   "cell_type": "code",
   "execution_count": null,
   "id": "0008f587-db60-406a-91b2-68f15e593270",
   "metadata": {},
   "outputs": [],
   "source": [
    " Q3.The per-unit charges in rupees are as follows: For the first 100 units, the user will be charged Rs. 4.5 per\n",
    "unit, for the next 100 units, the user will be charged Rs. 6 per unit, and for the next 100 units, the user will\n",
    "be charged Rs. 10 per unit, After 300 units and above the user will be charged Rs. 20 per unit.\n",
    "\n",
    "\n",
    "You are required to take the units of electricity consumed in a month from the user as input.\n",
    "\n",
    "\n",
    "Your program must pass this test case: when the unit of electricity consumed by the user in a month is\n",
    "310, the total electricity bill should be 2250."
   ]
  },
  {
   "cell_type": "code",
   "execution_count": 11,
   "id": "5f78bddb-606b-4967-9e5b-30637410df23",
   "metadata": {},
   "outputs": [
    {
     "name": "stdin",
     "output_type": "stream",
     "text": [
      "Enter the units of electricity consumed:  56\n"
     ]
    },
    {
     "name": "stdout",
     "output_type": "stream",
     "text": [
      "Electricity Bill Amount: Rs. 1372.0\n"
     ]
    }
   ],
   "source": [
    "# Input the units of electricity consumed\n",
    "units = float(input(\"Enter the units of electricity consumed: \"))\n",
    "\n",
    "# Define the per-unit charges structure\n",
    "charge_structure = {\n",
    "    100: 4.5,\n",
    "    200: 6,\n",
    "    300: 10,\n",
    "}\n",
    "\n",
    "# Default rate for units beyond 300\n",
    "default_rate = 20\n",
    "\n",
    "# Initialize the bill amount\n",
    "bill_amount = 0\n",
    "\n",
    "# Calculate the bill using the charge structure\n",
    "for threshold, rate in charge_structure.items():\n",
    "    if units > threshold:\n",
    "        bill_amount += threshold * rate\n",
    "        units -= threshold\n",
    "    else:\n",
    "        bill_amount += units * rate\n",
    "        break\n",
    "\n",
    "# Add charges for units beyond the defined thresholds\n",
    "bill_amount += units * default_rate\n",
    "\n",
    "# Display the calculated bill amount\n",
    "print(\"Electricity Bill Amount: Rs.\", bill_amount)\n"
   ]
  },
  {
   "cell_type": "code",
   "execution_count": null,
   "id": "b224dad1-5448-461d-b844-7c63b475e8a5",
   "metadata": {},
   "outputs": [],
   "source": []
  }
 ],
 "metadata": {
  "kernelspec": {
   "display_name": "Python 3 (ipykernel)",
   "language": "python",
   "name": "python3"
  },
  "language_info": {
   "codemirror_mode": {
    "name": "ipython",
    "version": 3
   },
   "file_extension": ".py",
   "mimetype": "text/x-python",
   "name": "python",
   "nbconvert_exporter": "python",
   "pygments_lexer": "ipython3",
   "version": "3.10.8"
  }
 },
 "nbformat": 4,
 "nbformat_minor": 5
}
