{
 "cells": [
  {
   "cell_type": "code",
   "execution_count": 1,
   "id": "015043e5-2415-4411-9034-ce2418bcdf7d",
   "metadata": {},
   "outputs": [],
   "source": [
    "l =[1,2,3,45,56,\"naresh\",True,5+6j,34.5]\n"
   ]
  },
  {
   "cell_type": "code",
   "execution_count": 2,
   "id": "4dbc3fde-49eb-47c4-b175-4f100949a37b",
   "metadata": {},
   "outputs": [
    {
     "data": {
      "text/plain": [
       "list"
      ]
     },
     "execution_count": 2,
     "metadata": {},
     "output_type": "execute_result"
    }
   ],
   "source": [
    "type(l)"
   ]
  },
  {
   "cell_type": "code",
   "execution_count": 3,
   "id": "fc9423cb-5dd4-497d-887c-14d694a69024",
   "metadata": {},
   "outputs": [
    {
     "data": {
      "text/plain": [
       "2"
      ]
     },
     "execution_count": 3,
     "metadata": {},
     "output_type": "execute_result"
    }
   ],
   "source": [
    "l[1]"
   ]
  },
  {
   "cell_type": "code",
   "execution_count": 4,
   "id": "589b4ef3-e20d-49a3-b805-3c43759cbdb1",
   "metadata": {},
   "outputs": [
    {
     "data": {
      "text/plain": [
       "True"
      ]
     },
     "execution_count": 4,
     "metadata": {},
     "output_type": "execute_result"
    }
   ],
   "source": [
    "l[6]"
   ]
  },
  {
   "cell_type": "code",
   "execution_count": 5,
   "id": "4e71aa70-ea1c-4a81-a503-13202082e97c",
   "metadata": {},
   "outputs": [
    {
     "data": {
      "text/plain": [
       "[1, 2, 3, 45]"
      ]
     },
     "execution_count": 5,
     "metadata": {},
     "output_type": "execute_result"
    }
   ],
   "source": [
    "l[0:4]"
   ]
  },
  {
   "cell_type": "code",
   "execution_count": 6,
   "id": "dbb37367-b7ca-4c0c-912d-c08b900ccc84",
   "metadata": {},
   "outputs": [
    {
     "data": {
      "text/plain": [
       "[1, 2, 3]"
      ]
     },
     "execution_count": 6,
     "metadata": {},
     "output_type": "execute_result"
    }
   ],
   "source": [
    "l[0:3]"
   ]
  },
  {
   "cell_type": "code",
   "execution_count": 7,
   "id": "14ca7e23-25fb-4709-b378-322567be3e71",
   "metadata": {},
   "outputs": [
    {
     "data": {
      "text/plain": [
       "34.5"
      ]
     },
     "execution_count": 7,
     "metadata": {},
     "output_type": "execute_result"
    }
   ],
   "source": [
    "l[-1]"
   ]
  },
  {
   "cell_type": "code",
   "execution_count": 8,
   "id": "2d043098-f9e4-464d-b554-26a185516014",
   "metadata": {},
   "outputs": [
    {
     "data": {
      "text/plain": [
       "[34.5, (5+6j), True, 'naresh', 56, 45, 3, 2, 1]"
      ]
     },
     "execution_count": 8,
     "metadata": {},
     "output_type": "execute_result"
    }
   ],
   "source": [
    "l[::-1]"
   ]
  },
  {
   "cell_type": "code",
   "execution_count": 9,
   "id": "6ace0bd1-4fc4-4c7f-998c-e8adc5038fb9",
   "metadata": {},
   "outputs": [
    {
     "data": {
      "text/plain": [
       "[1, 3, 56, True, 34.5]"
      ]
     },
     "execution_count": 9,
     "metadata": {},
     "output_type": "execute_result"
    }
   ],
   "source": [
    "l[::2]"
   ]
  },
  {
   "cell_type": "code",
   "execution_count": 10,
   "id": "a79c2876-5dfd-4d62-94a5-3533122ced33",
   "metadata": {},
   "outputs": [],
   "source": [
    "s =\"pwskill\""
   ]
  },
  {
   "cell_type": "code",
   "execution_count": 11,
   "id": "c8b39984-26b1-44ba-863b-3a8d0ba147d3",
   "metadata": {},
   "outputs": [
    {
     "ename": "TypeError",
     "evalue": "can only concatenate list (not \"str\") to list",
     "output_type": "error",
     "traceback": [
      "\u001b[0;31m---------------------------------------------------------------------------\u001b[0m",
      "\u001b[0;31mTypeError\u001b[0m                                 Traceback (most recent call last)",
      "Cell \u001b[0;32mIn[11], line 1\u001b[0m\n\u001b[0;32m----> 1\u001b[0m \u001b[43ml\u001b[49m\u001b[38;5;241;43m+\u001b[39;49m\u001b[43ms\u001b[49m\n",
      "\u001b[0;31mTypeError\u001b[0m: can only concatenate list (not \"str\") to list"
     ]
    }
   ],
   "source": [
    "l+s"
   ]
  },
  {
   "cell_type": "code",
   "execution_count": 15,
   "id": "3129d9c1-8477-4a71-940b-21c45b2ebbf6",
   "metadata": {},
   "outputs": [
    {
     "data": {
      "text/plain": [
       "['p',\n",
       " 'w',\n",
       " 's',\n",
       " 'k',\n",
       " 'i',\n",
       " 'l',\n",
       " 'l',\n",
       " 1,\n",
       " 2,\n",
       " 3,\n",
       " 45,\n",
       " 56,\n",
       " 'naresh',\n",
       " True,\n",
       " (5+6j),\n",
       " 34.5]"
      ]
     },
     "execution_count": 15,
     "metadata": {},
     "output_type": "execute_result"
    }
   ],
   "source": [
    "list(s)+l"
   ]
  },
  {
   "cell_type": "code",
   "execution_count": null,
   "id": "7bd57fd9-0c27-4b30-959d-ed9dd0e1289a",
   "metadata": {},
   "outputs": [],
   "source": [
    "l\n"
   ]
  },
  {
   "cell_type": "code",
   "execution_count": 16,
   "id": "7ac90e14-fe36-4011-8b42-2fb9c5c8c64d",
   "metadata": {},
   "outputs": [
    {
     "data": {
      "text/plain": [
       "'naresh'"
      ]
     },
     "execution_count": 16,
     "metadata": {},
     "output_type": "execute_result"
    }
   ],
   "source": [
    "l[5]"
   ]
  },
  {
   "cell_type": "code",
   "execution_count": null,
   "id": "00c8b475-4050-48fe-9404-9d417cbad8e1",
   "metadata": {},
   "outputs": [],
   "source": [
    "type(l[5])\n"
   ]
  },
  {
   "cell_type": "code",
   "execution_count": 17,
   "id": "46287388-7218-4e34-8a1b-9111073679a4",
   "metadata": {},
   "outputs": [
    {
     "data": {
      "text/plain": [
       "'nar'"
      ]
     },
     "execution_count": 17,
     "metadata": {},
     "output_type": "execute_result"
    }
   ],
   "source": [
    "l[5][0:3]"
   ]
  },
  {
   "cell_type": "code",
   "execution_count": null,
   "id": "fbb78f23-43b9-4b07-b235-c743a440cc0f",
   "metadata": {},
   "outputs": [],
   "source": [
    "str(l[6])[0:2]\n"
   ]
  },
  {
   "cell_type": "code",
   "execution_count": 18,
   "id": "4cd5b6b7-e376-4718-90df-0e469549896c",
   "metadata": {},
   "outputs": [],
   "source": [
    "l1 = [3,4,5]"
   ]
  },
  {
   "cell_type": "code",
   "execution_count": 19,
   "id": "c4653434-ce0a-40c2-802c-a89388c5855f",
   "metadata": {},
   "outputs": [
    {
     "data": {
      "text/plain": [
       "[3, 4, 5, 1, 2, 3, 45, 56, 'naresh', True, (5+6j), 34.5]"
      ]
     },
     "execution_count": 19,
     "metadata": {},
     "output_type": "execute_result"
    }
   ],
   "source": [
    " l1+l"
   ]
  },
  {
   "cell_type": "code",
   "execution_count": 20,
   "id": "1ccf937c-8389-4e88-ad85-d6102a0eeca2",
   "metadata": {},
   "outputs": [
    {
     "data": {
      "text/plain": [
       "[1, 2, 3, 45, 56, 'naresh', True, (5+6j), 34.5]"
      ]
     },
     "execution_count": 20,
     "metadata": {},
     "output_type": "execute_result"
    }
   ],
   "source": [
    "l\n"
   ]
  },
  {
   "cell_type": "code",
   "execution_count": 21,
   "id": "15b14887-315b-4050-b644-742c1f9f4a08",
   "metadata": {},
   "outputs": [
    {
     "data": {
      "text/plain": [
       "9"
      ]
     },
     "execution_count": 21,
     "metadata": {},
     "output_type": "execute_result"
    }
   ],
   "source": [
    "len(l)"
   ]
  },
  {
   "cell_type": "code",
   "execution_count": 23,
   "id": "4df441f2-94c9-4138-96e3-94342c2f8ced",
   "metadata": {},
   "outputs": [],
   "source": [
    "l.append(s)"
   ]
  },
  {
   "cell_type": "code",
   "execution_count": 1,
   "id": "d56b0604-9881-4a7e-884b-49fcaf2a2485",
   "metadata": {},
   "outputs": [
    {
     "ename": "NameError",
     "evalue": "name 'l' is not defined",
     "output_type": "error",
     "traceback": [
      "\u001b[0;31m---------------------------------------------------------------------------\u001b[0m",
      "\u001b[0;31mNameError\u001b[0m                                 Traceback (most recent call last)",
      "Cell \u001b[0;32mIn[1], line 1\u001b[0m\n\u001b[0;32m----> 1\u001b[0m \u001b[43ml\u001b[49m\n",
      "\u001b[0;31mNameError\u001b[0m: name 'l' is not defined"
     ]
    }
   ],
   "source": [
    "l\n"
   ]
  },
  {
   "cell_type": "code",
   "execution_count": 24,
   "id": "af2ce0db-5031-49f0-a591-937167ce8306",
   "metadata": {},
   "outputs": [],
   "source": [
    "l.append(l1)"
   ]
  },
  {
   "cell_type": "code",
   "execution_count": null,
   "id": "8d141ebf-b0f1-490b-8664-baebaecde18c",
   "metadata": {},
   "outputs": [],
   "source": [
    "l"
   ]
  },
  {
   "cell_type": "code",
   "execution_count": 25,
   "id": "b1fa8213-dfd6-42c8-8a71-d5f09b36cb42",
   "metadata": {},
   "outputs": [
    {
     "data": {
      "text/plain": [
       "[1, 2, 3, 45, 56, 'naresh', True, (5+6j), 34.5, 'pwskill', 'pwskill']"
      ]
     },
     "execution_count": 25,
     "metadata": {},
     "output_type": "execute_result"
    }
   ],
   "source": [
    "l[:-1]"
   ]
  },
  {
   "cell_type": "code",
   "execution_count": null,
   "id": "2abcc411-7a63-45a5-b10d-c497808fb53d",
   "metadata": {},
   "outputs": [],
   "source": [
    "l[-1][1]\n"
   ]
  },
  {
   "cell_type": "code",
   "execution_count": 26,
   "id": "a9c2583c-4618-4ded-8c90-a6b6d27fb7fe",
   "metadata": {},
   "outputs": [],
   "source": [
    "l.extend(\"naresh\")"
   ]
  },
  {
   "cell_type": "code",
   "execution_count": 27,
   "id": "717f590b-97bd-4e79-89d3-e7b1e98b7852",
   "metadata": {},
   "outputs": [
    {
     "data": {
      "text/plain": [
       "[1,\n",
       " 2,\n",
       " 3,\n",
       " 45,\n",
       " 56,\n",
       " 'naresh',\n",
       " True,\n",
       " (5+6j),\n",
       " 34.5,\n",
       " 'pwskill',\n",
       " 'pwskill',\n",
       " [3, 4, 5],\n",
       " 'n',\n",
       " 'a',\n",
       " 'r',\n",
       " 'e',\n",
       " 's',\n",
       " 'h']"
      ]
     },
     "execution_count": 27,
     "metadata": {},
     "output_type": "execute_result"
    }
   ],
   "source": [
    "l"
   ]
  },
  {
   "cell_type": "code",
   "execution_count": null,
   "id": "065f9e99-7703-41c5-a203-3e1c1e8cc4ef",
   "metadata": {},
   "outputs": [],
   "source": [
    "l.extend(l1)\n",
    "l1\n"
   ]
  },
  {
   "cell_type": "code",
   "execution_count": 28,
   "id": "b51c5dc4-7f43-4a6b-9b40-0b8e3b249acd",
   "metadata": {},
   "outputs": [
    {
     "data": {
      "text/plain": [
       "[1,\n",
       " 2,\n",
       " 3,\n",
       " 45,\n",
       " 56,\n",
       " 'naresh',\n",
       " True,\n",
       " (5+6j),\n",
       " 34.5,\n",
       " 'pwskill',\n",
       " 'pwskill',\n",
       " [3, 4, 5],\n",
       " 'n',\n",
       " 'a',\n",
       " 'r',\n",
       " 'e',\n",
       " 's',\n",
       " 'h']"
      ]
     },
     "execution_count": 28,
     "metadata": {},
     "output_type": "execute_result"
    }
   ],
   "source": [
    "l"
   ]
  },
  {
   "cell_type": "code",
   "execution_count": 29,
   "id": "bf2bdb40-af0e-4c8b-b62c-49ee9ecf7ed7",
   "metadata": {},
   "outputs": [
    {
     "ename": "TypeError",
     "evalue": "'list' object cannot be interpreted as an integer",
     "output_type": "error",
     "traceback": [
      "\u001b[0;31m---------------------------------------------------------------------------\u001b[0m",
      "\u001b[0;31mTypeError\u001b[0m                                 Traceback (most recent call last)",
      "Cell \u001b[0;32mIn[29], line 1\u001b[0m\n\u001b[0;32m----> 1\u001b[0m \u001b[43ml1\u001b[49m\u001b[38;5;241;43m.\u001b[39;49m\u001b[43minsert\u001b[49m\u001b[43m(\u001b[49m\u001b[43ml\u001b[49m\u001b[43m,\u001b[49m\u001b[38;5;124;43m\"\u001b[39;49m\u001b[38;5;124;43ms\u001b[39;49m\u001b[38;5;124;43m\"\u001b[39;49m\u001b[43m)\u001b[49m\n",
      "\u001b[0;31mTypeError\u001b[0m: 'list' object cannot be interpreted as an integer"
     ]
    }
   ],
   "source": [
    "l1.insert(l,\"s\")\n"
   ]
  },
  {
   "cell_type": "code",
   "execution_count": 30,
   "id": "b5a5c8f5-a3d3-48f6-b1e0-3982edcfccd5",
   "metadata": {},
   "outputs": [
    {
     "data": {
      "text/plain": [
       "[3, 4, 5]"
      ]
     },
     "execution_count": 30,
     "metadata": {},
     "output_type": "execute_result"
    }
   ],
   "source": [
    "l1\n",
    "\n"
   ]
  },
  {
   "cell_type": "code",
   "execution_count": 32,
   "id": "0ee1cdfa-9518-44bd-8a4e-5678cf57ed80",
   "metadata": {},
   "outputs": [],
   "source": [
    "l1.insert(2,[2,3,4,])"
   ]
  },
  {
   "cell_type": "code",
   "execution_count": 33,
   "id": "4aaee0fa-1080-45d6-9fc9-30ccdafda31f",
   "metadata": {},
   "outputs": [
    {
     "data": {
      "text/plain": [
       "[3, 4, [2, 3, 4], [2, 3, 4], 5]"
      ]
     },
     "execution_count": 33,
     "metadata": {},
     "output_type": "execute_result"
    }
   ],
   "source": [
    "l1"
   ]
  },
  {
   "cell_type": "code",
   "execution_count": 34,
   "id": "a2267f29-008f-40de-8d01-21780670874a",
   "metadata": {},
   "outputs": [],
   "source": [
    "l1.insert(-1,45)"
   ]
  },
  {
   "cell_type": "code",
   "execution_count": 35,
   "id": "f2ab085c-11e5-4c1f-ae77-9a84e3bfea45",
   "metadata": {},
   "outputs": [
    {
     "data": {
      "text/plain": [
       "[3, 4, [2, 3, 4], [2, 3, 4], 45, 5]"
      ]
     },
     "execution_count": 35,
     "metadata": {},
     "output_type": "execute_result"
    }
   ],
   "source": [
    "l1"
   ]
  },
  {
   "cell_type": "code",
   "execution_count": 37,
   "id": "700819bf-14c5-466d-b00c-ec1fe8a775ce",
   "metadata": {},
   "outputs": [],
   "source": [
    "l1.insert(0,45)"
   ]
  },
  {
   "cell_type": "code",
   "execution_count": 38,
   "id": "6d7c4445-5297-4c07-8be7-1fd79c375f4d",
   "metadata": {},
   "outputs": [
    {
     "data": {
      "text/plain": [
       "[45, 45, 3, 4, [2, 3, 4], [2, 3, 4], 45, 5]"
      ]
     },
     "execution_count": 38,
     "metadata": {},
     "output_type": "execute_result"
    }
   ],
   "source": [
    "l1"
   ]
  },
  {
   "cell_type": "code",
   "execution_count": null,
   "id": "59de8141-5556-4ca8-9572-800fc998fac3",
   "metadata": {},
   "outputs": [],
   "source": [
    "l1.pop()\n"
   ]
  },
  {
   "cell_type": "code",
   "execution_count": 39,
   "id": "4eed0748-3501-415d-baf8-4cd5352aab45",
   "metadata": {},
   "outputs": [
    {
     "data": {
      "text/plain": [
       "[45, 45, 3, 4, [2, 3, 4], [2, 3, 4], 45, 5]"
      ]
     },
     "execution_count": 39,
     "metadata": {},
     "output_type": "execute_result"
    }
   ],
   "source": [
    "l1"
   ]
  },
  {
   "cell_type": "code",
   "execution_count": null,
   "id": "33b96ec1-6b3e-4756-b85d-a6241ec6f5ec",
   "metadata": {},
   "outputs": [],
   "source": [
    "l1.pop()\n"
   ]
  },
  {
   "cell_type": "code",
   "execution_count": 40,
   "id": "b4a34508-7d16-4061-98df-f30b6db0bf39",
   "metadata": {},
   "outputs": [
    {
     "data": {
      "text/plain": [
       "[45, 45, 3, 4, [2, 3, 4], [2, 3, 4], 45, 5]"
      ]
     },
     "execution_count": 40,
     "metadata": {},
     "output_type": "execute_result"
    }
   ],
   "source": [
    "l1"
   ]
  },
  {
   "cell_type": "code",
   "execution_count": 41,
   "id": "ab8720e2-f072-4973-a05f-201894967ead",
   "metadata": {},
   "outputs": [
    {
     "data": {
      "text/plain": [
       "3"
      ]
     },
     "execution_count": 41,
     "metadata": {},
     "output_type": "execute_result"
    }
   ],
   "source": [
    "l1.pop(2)"
   ]
  },
  {
   "cell_type": "code",
   "execution_count": 42,
   "id": "28c4920a-ae71-4e52-b1b8-2a73898cd3bf",
   "metadata": {},
   "outputs": [
    {
     "data": {
      "text/plain": [
       "[45, 45, 4, [2, 3, 4], [2, 3, 4], 45, 5]"
      ]
     },
     "execution_count": 42,
     "metadata": {},
     "output_type": "execute_result"
    }
   ],
   "source": [
    "l1\n"
   ]
  },
  {
   "cell_type": "code",
   "execution_count": 44,
   "id": "35065ef3-2ae8-46c8-8dab-8437d1403c3b",
   "metadata": {},
   "outputs": [],
   "source": [
    "l1.reverse()\n"
   ]
  },
  {
   "cell_type": "code",
   "execution_count": 43,
   "id": "a78ef231-9b9b-4a40-a2e5-49343ceb54f2",
   "metadata": {},
   "outputs": [
    {
     "data": {
      "text/plain": [
       "[45, 45, 4, [2, 3, 4], [2, 3, 4], 45, 5]"
      ]
     },
     "execution_count": 43,
     "metadata": {},
     "output_type": "execute_result"
    }
   ],
   "source": [
    "l1"
   ]
  },
  {
   "cell_type": "code",
   "execution_count": 45,
   "id": "be1c64bd-f7be-4247-9f45-cd2ecbf74e86",
   "metadata": {},
   "outputs": [
    {
     "data": {
      "text/plain": [
       "<function list.sort(*, key=None, reverse=False)>"
      ]
     },
     "execution_count": 45,
     "metadata": {},
     "output_type": "execute_result"
    }
   ],
   "source": [
    "l1.sort()\n",
    "\n"
   ]
  },
  {
   "cell_type": "code",
   "execution_count": 46,
   "id": "d29c48e7-8d1f-4c7e-9dcb-62123c9c4fc6",
   "metadata": {},
   "outputs": [
    {
     "data": {
      "text/plain": [
       "[5, 45, [2, 3, 4], [2, 3, 4], 4, 45, 45]"
      ]
     },
     "execution_count": 46,
     "metadata": {},
     "output_type": "execute_result"
    }
   ],
   "source": [
    "l1"
   ]
  },
  {
   "cell_type": "code",
   "execution_count": 50,
   "id": "826b6996-52ca-4084-9821-b57cec7dcb9e",
   "metadata": {},
   "outputs": [],
   "source": [
    "l2= [1,3,5,56,7,98]"
   ]
  },
  {
   "cell_type": "code",
   "execution_count": 54,
   "id": "9d09103e-26c6-40f9-ad53-d21ecd6344ad",
   "metadata": {},
   "outputs": [],
   "source": [
    "l2.sort()"
   ]
  },
  {
   "cell_type": "code",
   "execution_count": 55,
   "id": "53c43f05-5b5f-4bf8-8ef7-160af9bdfb15",
   "metadata": {},
   "outputs": [
    {
     "data": {
      "text/plain": [
       "[1, 3, 5, 7, 56, 98]"
      ]
     },
     "execution_count": 55,
     "metadata": {},
     "output_type": "execute_result"
    }
   ],
   "source": [
    "l2"
   ]
  },
  {
   "cell_type": "code",
   "execution_count": null,
   "id": "a3c28de5-63d8-48f3-bfa2-4b8515a102c0",
   "metadata": {},
   "outputs": [],
   "source": [
    "l3 =[45,56,32,5678,34,\"naresh\"]\n"
   ]
  },
  {
   "cell_type": "code",
   "execution_count": 1,
   "id": "30412c70-712c-4643-a9b4-5608d31e6fe6",
   "metadata": {},
   "outputs": [
    {
     "ename": "NameError",
     "evalue": "name 'l3' is not defined",
     "output_type": "error",
     "traceback": [
      "\u001b[0;31m---------------------------------------------------------------------------\u001b[0m",
      "\u001b[0;31mNameError\u001b[0m                                 Traceback (most recent call last)",
      "Cell \u001b[0;32mIn[1], line 1\u001b[0m\n\u001b[0;32m----> 1\u001b[0m \u001b[43ml3\u001b[49m\u001b[38;5;241m.\u001b[39msort()\n",
      "\u001b[0;31mNameError\u001b[0m: name 'l3' is not defined"
     ]
    }
   ],
   "source": [
    "l3.sort()"
   ]
  },
  {
   "cell_type": "code",
   "execution_count": 58,
   "id": "2b179766-3843-44f3-83cb-22e7fb699723",
   "metadata": {},
   "outputs": [
    {
     "ename": "NameError",
     "evalue": "name 'l3' is not defined",
     "output_type": "error",
     "traceback": [
      "\u001b[0;31m---------------------------------------------------------------------------\u001b[0m",
      "\u001b[0;31mNameError\u001b[0m                                 Traceback (most recent call last)",
      "Cell \u001b[0;32mIn[58], line 1\u001b[0m\n\u001b[0;32m----> 1\u001b[0m \u001b[43ml3\u001b[49m\n",
      "\u001b[0;31mNameError\u001b[0m: name 'l3' is not defined"
     ]
    }
   ],
   "source": [
    "l3"
   ]
  },
  {
   "cell_type": "code",
   "execution_count": 70,
   "id": "9e222c8a-436e-4b6b-b9d2-ce7338ce9e53",
   "metadata": {},
   "outputs": [],
   "source": [
    "l4 =[\"naresh\",\"sham\",\"ram\",\"data science\"]"
   ]
  },
  {
   "cell_type": "code",
   "execution_count": null,
   "id": "4dbd3fdb-171d-444a-addb-9575368fc18b",
   "metadata": {},
   "outputs": [],
   "source": [
    "l4.sort(reverse=true)"
   ]
  },
  {
   "cell_type": "code",
   "execution_count": 71,
   "id": "ae9a16bf-d26d-4fdb-9787-e53cccddc1cf",
   "metadata": {},
   "outputs": [
    {
     "data": {
      "text/plain": [
       "['naresh', 'sham', 'ram', 'data science']"
      ]
     },
     "execution_count": 71,
     "metadata": {},
     "output_type": "execute_result"
    }
   ],
   "source": [
    "l4"
   ]
  },
  {
   "cell_type": "code",
   "execution_count": 72,
   "id": "bc2ffe31-3152-4d3d-ad2b-9875cbac40fa",
   "metadata": {},
   "outputs": [
    {
     "data": {
      "text/plain": [
       "['naresh', 'sham', 'ram', 'data science']"
      ]
     },
     "execution_count": 72,
     "metadata": {},
     "output_type": "execute_result"
    }
   ],
   "source": [
    "l4"
   ]
  },
  {
   "cell_type": "code",
   "execution_count": 73,
   "id": "024e04e2-21f8-439d-9f7f-0c91f888ebbd",
   "metadata": {},
   "outputs": [
    {
     "data": {
      "text/plain": [
       "0"
      ]
     },
     "execution_count": 73,
     "metadata": {},
     "output_type": "execute_result"
    }
   ],
   "source": [
    "l4.index(\"naresh\")"
   ]
  },
  {
   "cell_type": "code",
   "execution_count": 74,
   "id": "12ac3a92-78fb-4009-9c7f-64eea09565f8",
   "metadata": {},
   "outputs": [
    {
     "data": {
      "text/plain": [
       "1"
      ]
     },
     "execution_count": 74,
     "metadata": {},
     "output_type": "execute_result"
    }
   ],
   "source": [
    "l4.count(\"naresh\")"
   ]
  },
  {
   "cell_type": "code",
   "execution_count": 75,
   "id": "c8c60cda-19a9-4075-ad24-711fe01d8562",
   "metadata": {},
   "outputs": [],
   "source": [
    "s = \"naaresj\""
   ]
  },
  {
   "cell_type": "code",
   "execution_count": 76,
   "id": "b600039f-e343-4b84-b29d-8c1b675ccd89",
   "metadata": {},
   "outputs": [],
   "source": [
    "l5 = [3,4,5,6,8]"
   ]
  },
  {
   "cell_type": "code",
   "execution_count": 92,
   "id": "bbe36917-eac5-466f-b6b4-76848ba191c4",
   "metadata": {},
   "outputs": [
    {
     "ename": "TypeError",
     "evalue": "'str' object does not support item assignment",
     "output_type": "error",
     "traceback": [
      "\u001b[0;31m---------------------------------------------------------------------------\u001b[0m",
      "\u001b[0;31mTypeError\u001b[0m                                 Traceback (most recent call last)",
      "Cell \u001b[0;32mIn[92], line 1\u001b[0m\n\u001b[0;32m----> 1\u001b[0m \u001b[43ms\u001b[49m\u001b[43m[\u001b[49m\u001b[38;5;241;43m0\u001b[39;49m\u001b[43m]\u001b[49m \u001b[38;5;241m=\u001b[39m\u001b[38;5;124m'\u001b[39m\u001b[38;5;124ma\u001b[39m\u001b[38;5;124m'\u001b[39m\n",
      "\u001b[0;31mTypeError\u001b[0m: 'str' object does not support item assignment"
     ]
    }
   ],
   "source": [
    "s[0] ='a'"
   ]
  },
  {
   "cell_type": "code",
   "execution_count": null,
   "id": "0ef329b5-ac8d-4a67-9fc9-448ec03c3084",
   "metadata": {},
   "outputs": [],
   "source": [
    "l5[0] =34"
   ]
  },
  {
   "cell_type": "code",
   "execution_count": 98,
   "id": "67b30615-8192-4e1c-a9de-0ec2a223f36a",
   "metadata": {},
   "outputs": [
    {
     "ename": "NameError",
     "evalue": "name 'l5' is not defined",
     "output_type": "error",
     "traceback": [
      "\u001b[0;31m---------------------------------------------------------------------------\u001b[0m",
      "\u001b[0;31mNameError\u001b[0m                                 Traceback (most recent call last)",
      "Cell \u001b[0;32mIn[98], line 1\u001b[0m\n\u001b[0;32m----> 1\u001b[0m \u001b[43ml5\u001b[49m\n",
      "\u001b[0;31mNameError\u001b[0m: name 'l5' is not defined"
     ]
    }
   ],
   "source": [
    "l5"
   ]
  },
  {
   "cell_type": "code",
   "execution_count": 99,
   "id": "9f5ba5e2-4fe9-48d9-89b1-6035c67cfcb2",
   "metadata": {},
   "outputs": [
    {
     "data": {
      "text/plain": [
       "'naareaj'"
      ]
     },
     "execution_count": 99,
     "metadata": {},
     "output_type": "execute_result"
    }
   ],
   "source": [
    "s.replace('s' , 'a')"
   ]
  },
  {
   "cell_type": "code",
   "execution_count": 107,
   "id": "e77185ca-45d2-4e43-ac53-5455145879a5",
   "metadata": {},
   "outputs": [],
   "source": [
    "t = (3,\"naresh\",[2.2,34,56,65,\"naresh\",5+5j])"
   ]
  },
  {
   "cell_type": "code",
   "execution_count": 108,
   "id": "edd3c9dd-c1e3-4135-9466-85be32fc605b",
   "metadata": {},
   "outputs": [
    {
     "data": {
      "text/plain": [
       "(3, 'naresh', [2.2, 34, 56, 65, 'naresh', (5+5j)])"
      ]
     },
     "execution_count": 108,
     "metadata": {},
     "output_type": "execute_result"
    }
   ],
   "source": [
    "t"
   ]
  },
  {
   "cell_type": "code",
   "execution_count": 109,
   "id": "469b655d-d117-4abc-9dd2-f71c4b4364a0",
   "metadata": {},
   "outputs": [
    {
     "data": {
      "text/plain": [
       "tuple"
      ]
     },
     "execution_count": 109,
     "metadata": {},
     "output_type": "execute_result"
    }
   ],
   "source": [
    "type(t)"
   ]
  },
  {
   "cell_type": "code",
   "execution_count": 110,
   "id": "688ae89e-5c30-4b45-b7e6-bc59a1c14e4c",
   "metadata": {},
   "outputs": [
    {
     "data": {
      "text/plain": [
       "3"
      ]
     },
     "execution_count": 110,
     "metadata": {},
     "output_type": "execute_result"
    }
   ],
   "source": [
    "len(t)"
   ]
  },
  {
   "cell_type": "code",
   "execution_count": 111,
   "id": "7dffebea-89bb-4e4d-bd1e-bde3444a3c3e",
   "metadata": {},
   "outputs": [
    {
     "data": {
      "text/plain": [
       "3"
      ]
     },
     "execution_count": 111,
     "metadata": {},
     "output_type": "execute_result"
    }
   ],
   "source": [
    "t[0]"
   ]
  },
  {
   "cell_type": "code",
   "execution_count": 112,
   "id": "e79f7630-c7fa-4235-a46b-fe4c039e4f29",
   "metadata": {},
   "outputs": [
    {
     "data": {
      "text/plain": [
       "[2.2, 34, 56, 65, 'naresh', (5+5j)]"
      ]
     },
     "execution_count": 112,
     "metadata": {},
     "output_type": "execute_result"
    }
   ],
   "source": [
    "t[-1]"
   ]
  },
  {
   "cell_type": "code",
   "execution_count": 113,
   "id": "c077a091-2d1f-450c-b940-454a7f0de82c",
   "metadata": {},
   "outputs": [
    {
     "data": {
      "text/plain": [
       "([2.2, 34, 56, 65, 'naresh', (5+5j)], 'naresh', 3)"
      ]
     },
     "execution_count": 113,
     "metadata": {},
     "output_type": "execute_result"
    }
   ],
   "source": [
    "t[::-1]"
   ]
  },
  {
   "cell_type": "code",
   "execution_count": 5,
   "id": "45e64fb4-0e99-41d5-82ce-5764929a9746",
   "metadata": {},
   "outputs": [],
   "source": [
    "l4 =[2.4,5,654,23,\"mjkhxkz\"]"
   ]
  },
  {
   "cell_type": "code",
   "execution_count": 12,
   "id": "c6be8837-4616-4fee-aad2-58f4ce7d333f",
   "metadata": {},
   "outputs": [
    {
     "data": {
      "text/plain": [
       "['naresh', 5, 654, 23, 'mjkhxkz']"
      ]
     },
     "execution_count": 12,
     "metadata": {},
     "output_type": "execute_result"
    }
   ],
   "source": [
    "l4"
   ]
  },
  {
   "cell_type": "code",
   "execution_count": 14,
   "id": "9526d7ff-cf7f-4c04-9208-91d0a5d7ec37",
   "metadata": {},
   "outputs": [],
   "source": [
    "l4[0] =\"naresh\""
   ]
  },
  {
   "cell_type": "code",
   "execution_count": 17,
   "id": "7d29eb2f-8af0-4079-a0c0-8045e15bf625",
   "metadata": {},
   "outputs": [],
   "source": [
    "t1 = (2.3,34,5,6,7,8,5,4,3,\"number\")"
   ]
  },
  {
   "cell_type": "code",
   "execution_count": 18,
   "id": "d43fdd34-42e6-4006-8078-0bad0f1946ac",
   "metadata": {},
   "outputs": [
    {
     "data": {
      "text/plain": [
       "(2.3, 34, 5, 6, 7, 8, 5, 4, 3, 'number')"
      ]
     },
     "execution_count": 18,
     "metadata": {},
     "output_type": "execute_result"
    }
   ],
   "source": [
    "t1"
   ]
  },
  {
   "cell_type": "code",
   "execution_count": 19,
   "id": "f9c1a571-7dab-4bc2-a411-e45c91fae511",
   "metadata": {},
   "outputs": [
    {
     "data": {
      "text/plain": [
       "('number', 3, 4, 5, 8, 7, 6, 5, 34, 2.3)"
      ]
     },
     "execution_count": 19,
     "metadata": {},
     "output_type": "execute_result"
    }
   ],
   "source": [
    "t1[::-1]"
   ]
  },
  {
   "cell_type": "code",
   "execution_count": 21,
   "id": "3ddbf4e1-95a4-4d68-9912-cb0b6d35e20b",
   "metadata": {},
   "outputs": [
    {
     "data": {
      "text/plain": [
       "1"
      ]
     },
     "execution_count": 21,
     "metadata": {},
     "output_type": "execute_result"
    }
   ],
   "source": [
    "t1.count(4)"
   ]
  },
  {
   "cell_type": "code",
   "execution_count": 22,
   "id": "5b95dafa-0bc3-4393-8a8d-efcdaa5af88c",
   "metadata": {},
   "outputs": [
    {
     "ename": "ValueError",
     "evalue": "tuple.index(x): x not in tuple",
     "output_type": "error",
     "traceback": [
      "\u001b[0;31m---------------------------------------------------------------------------\u001b[0m",
      "\u001b[0;31mValueError\u001b[0m                                Traceback (most recent call last)",
      "Cell \u001b[0;32mIn[22], line 1\u001b[0m\n\u001b[0;32m----> 1\u001b[0m \u001b[43mt1\u001b[49m\u001b[38;5;241;43m.\u001b[39;49m\u001b[43mindex\u001b[49m\u001b[43m(\u001b[49m\u001b[38;5;28;43;01mFalse\u001b[39;49;00m\u001b[43m)\u001b[49m\n",
      "\u001b[0;31mValueError\u001b[0m: tuple.index(x): x not in tuple"
     ]
    }
   ],
   "source": [
    "t1.index(False)"
   ]
  },
  {
   "cell_type": "code",
   "execution_count": 23,
   "id": "3cb02352-e9df-4dac-a6cc-3da1146e9244",
   "metadata": {},
   "outputs": [],
   "source": [
    "s1 = {}"
   ]
  },
  {
   "cell_type": "code",
   "execution_count": 24,
   "id": "e726fccf-c51d-4f50-ad13-96626aa4d04d",
   "metadata": {},
   "outputs": [
    {
     "data": {
      "text/plain": [
       "dict"
      ]
     },
     "execution_count": 24,
     "metadata": {},
     "output_type": "execute_result"
    }
   ],
   "source": [
    "type(s1)"
   ]
  },
  {
   "cell_type": "code",
   "execution_count": 26,
   "id": "ac8a0e04-41b3-4148-951f-d5021d9e66e7",
   "metadata": {},
   "outputs": [],
   "source": [
    "s2 = {2,3,4,5,6,\"naresh\"}"
   ]
  },
  {
   "cell_type": "code",
   "execution_count": 27,
   "id": "c6f147f6-6429-4e2f-a4ea-b0544e2ae250",
   "metadata": {},
   "outputs": [
    {
     "data": {
      "text/plain": [
       "set"
      ]
     },
     "execution_count": 27,
     "metadata": {},
     "output_type": "execute_result"
    }
   ],
   "source": [
    "type(s2)"
   ]
  },
  {
   "cell_type": "code",
   "execution_count": 31,
   "id": "59c0192c-021e-4aa7-af2e-cbce7f6882cd",
   "metadata": {},
   "outputs": [],
   "source": [
    "s3 ={1,2.3,4,4,5,7,8,(34,5,6,67)}"
   ]
  },
  {
   "cell_type": "code",
   "execution_count": 30,
   "id": "85d5bd97-63fe-4892-89a7-aeaf3eb68464",
   "metadata": {},
   "outputs": [
    {
     "data": {
      "text/plain": [
       "set"
      ]
     },
     "execution_count": 30,
     "metadata": {},
     "output_type": "execute_result"
    }
   ],
   "source": [
    "type(s3)"
   ]
  },
  {
   "cell_type": "code",
   "execution_count": 32,
   "id": "fca5087d-d1ae-4cf1-88a5-c8efc9546e9f",
   "metadata": {},
   "outputs": [
    {
     "data": {
      "text/plain": [
       "{(34, 5, 6, 67), 1, 2.3, 4, 5, 7, 8}"
      ]
     },
     "execution_count": 32,
     "metadata": {},
     "output_type": "execute_result"
    }
   ],
   "source": [
    "s3"
   ]
  },
  {
   "cell_type": "code",
   "execution_count": 33,
   "id": "8fd11442-2e43-4f68-803f-aa48e7683f0f",
   "metadata": {},
   "outputs": [],
   "source": [
    "s4 ={ 1,123,345,5,5,6,6,7,7}"
   ]
  },
  {
   "cell_type": "code",
   "execution_count": 34,
   "id": "ff85e25c-1e6e-4619-954a-273f05387dc9",
   "metadata": {},
   "outputs": [
    {
     "data": {
      "text/plain": [
       "{1, 5, 6, 7, 123, 345}"
      ]
     },
     "execution_count": 34,
     "metadata": {},
     "output_type": "execute_result"
    }
   ],
   "source": [
    "s4"
   ]
  },
  {
   "cell_type": "code",
   "execution_count": 35,
   "id": "a5e50ea7-c86c-4b95-8837-1b52317e953e",
   "metadata": {},
   "outputs": [],
   "source": [
    "l6 = [1,3,4,56,67,78,6565.64,4,34,\"nar\",\"dsfd\"]"
   ]
  },
  {
   "cell_type": "code",
   "execution_count": 36,
   "id": "5af68697-3960-440f-87e9-e2ed888701f6",
   "metadata": {},
   "outputs": [],
   "source": [
    "l6 = list(set(l6))"
   ]
  },
  {
   "cell_type": "code",
   "execution_count": 41,
   "id": "d66e506d-cc15-4876-90b4-fa5a8602ea24",
   "metadata": {},
   "outputs": [
    {
     "data": {
      "text/plain": [
       "{1, 3, 34, 4, 56, 6565.64, 67, 78, 'dsfd', 'nar'}"
      ]
     },
     "execution_count": 41,
     "metadata": {},
     "output_type": "execute_result"
    }
   ],
   "source": [
    "l6"
   ]
  },
  {
   "cell_type": "code",
   "execution_count": 42,
   "id": "598288d3-3419-48ac-95c3-2041961f668e",
   "metadata": {},
   "outputs": [],
   "source": [
    "s5 = {1,3563,4,\"dfg\",56456,566,76,878,78,7}"
   ]
  },
  {
   "cell_type": "code",
   "execution_count": 21,
   "id": "b807a783-a4e7-4196-896b-e3e974c90fa0",
   "metadata": {},
   "outputs": [
    {
     "ename": "NameError",
     "evalue": "name 's5' is not defined",
     "output_type": "error",
     "traceback": [
      "\u001b[0;31m---------------------------------------------------------------------------\u001b[0m",
      "\u001b[0;31mNameError\u001b[0m                                 Traceback (most recent call last)",
      "Cell \u001b[0;32mIn[21], line 1\u001b[0m\n\u001b[0;32m----> 1\u001b[0m \u001b[43ms5\u001b[49m\n",
      "\u001b[0;31mNameError\u001b[0m: name 's5' is not defined"
     ]
    }
   ],
   "source": [
    "s5"
   ]
  },
  {
   "cell_type": "code",
   "execution_count": 38,
   "id": "73d3da9b-3e7b-4c35-8233-d0cb923125d2",
   "metadata": {},
   "outputs": [
    {
     "ename": "NameError",
     "evalue": "name 's5' is not defined",
     "output_type": "error",
     "traceback": [
      "\u001b[0;31m---------------------------------------------------------------------------\u001b[0m",
      "\u001b[0;31mNameError\u001b[0m                                 Traceback (most recent call last)",
      "Cell \u001b[0;32mIn[38], line 1\u001b[0m\n\u001b[0;32m----> 1\u001b[0m \u001b[43ms5\u001b[49m\u001b[38;5;241m.\u001b[39madd(\u001b[38;5;241m4\u001b[39m)\n",
      "\u001b[0;31mNameError\u001b[0m: name 's5' is not defined"
     ]
    }
   ],
   "source": [
    " s5.add(4)"
   ]
  },
  {
   "cell_type": "code",
   "execution_count": 37,
   "id": "5f3dac9e-aeb3-47b3-a29e-0046a8fdbe8f",
   "metadata": {},
   "outputs": [
    {
     "ename": "NameError",
     "evalue": "name 's5' is not defined",
     "output_type": "error",
     "traceback": [
      "\u001b[0;31m---------------------------------------------------------------------------\u001b[0m",
      "\u001b[0;31mNameError\u001b[0m                                 Traceback (most recent call last)",
      "Cell \u001b[0;32mIn[37], line 1\u001b[0m\n\u001b[0;32m----> 1\u001b[0m \u001b[43ms5\u001b[49m\n",
      "\u001b[0;31mNameError\u001b[0m: name 's5' is not defined"
     ]
    }
   ],
   "source": [
    "s5"
   ]
  },
  {
   "cell_type": "code",
   "execution_count": 18,
   "id": "d026e67b-6bf8-4841-a413-776b691d55ec",
   "metadata": {},
   "outputs": [],
   "source": [
    "c = \"dfsdf\""
   ]
  },
  {
   "cell_type": "code",
   "execution_count": 19,
   "id": "424372ac-ec81-4cb9-be5f-db155f3f997d",
   "metadata": {},
   "outputs": [
    {
     "data": {
      "text/plain": [
       "str"
      ]
     },
     "execution_count": 19,
     "metadata": {},
     "output_type": "execute_result"
    }
   ],
   "source": [
    "type(c)"
   ]
  },
  {
   "cell_type": "code",
   "execution_count": 21,
   "id": "03fc1e3d-275b-48fc-8b8f-b77bbfd0ec5c",
   "metadata": {},
   "outputs": [],
   "source": [
    "s6 = {2,4,5,56,3.2,562.3}"
   ]
  },
  {
   "cell_type": "code",
   "execution_count": 22,
   "id": "4d89fb5b-c51e-4b67-8b5b-1fd2315c9e5a",
   "metadata": {},
   "outputs": [
    {
     "data": {
      "text/plain": [
       "set"
      ]
     },
     "execution_count": 22,
     "metadata": {},
     "output_type": "execute_result"
    }
   ],
   "source": [
    "type(s6)"
   ]
  },
  {
   "cell_type": "code",
   "execution_count": 23,
   "id": "2ac87fe6-cb93-44ae-9bb8-e97bc00a44d2",
   "metadata": {},
   "outputs": [],
   "source": [
    "s6.add(4234)"
   ]
  },
  {
   "cell_type": "code",
   "execution_count": 26,
   "id": "5209021b-8a8b-4824-9fdf-4d590c4216af",
   "metadata": {},
   "outputs": [
    {
     "data": {
      "text/plain": [
       "{2, 3.2, 4, 5, 56, 562.3}"
      ]
     },
     "execution_count": 26,
     "metadata": {},
     "output_type": "execute_result"
    }
   ],
   "source": [
    "s6"
   ]
  },
  {
   "cell_type": "code",
   "execution_count": 28,
   "id": "998cfa00-8c6b-4008-bd09-f7b6f4676a87",
   "metadata": {},
   "outputs": [],
   "source": [
    "s6.remove(3.2)"
   ]
  },
  {
   "cell_type": "code",
   "execution_count": 29,
   "id": "fdefad34-6f30-482a-be77-ffd61e1e2cd8",
   "metadata": {},
   "outputs": [
    {
     "data": {
      "text/plain": [
       "{2, 4, 5, 56, 562.3}"
      ]
     },
     "execution_count": 29,
     "metadata": {},
     "output_type": "execute_result"
    }
   ],
   "source": [
    "s6"
   ]
  },
  {
   "cell_type": "code",
   "execution_count": null,
   "id": "f2db279c-dbf5-44b2-8c90-581e4010090f",
   "metadata": {},
   "outputs": [],
   "source": []
  }
 ],
 "metadata": {
  "kernelspec": {
   "display_name": "Python 3 (ipykernel)",
   "language": "python",
   "name": "python3"
  },
  "language_info": {
   "codemirror_mode": {
    "name": "ipython",
    "version": 3
   },
   "file_extension": ".py",
   "mimetype": "text/x-python",
   "name": "python",
   "nbconvert_exporter": "python",
   "pygments_lexer": "ipython3",
   "version": "3.10.8"
  }
 },
 "nbformat": 4,
 "nbformat_minor": 5
}
