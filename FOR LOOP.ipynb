{
 "cells": [
  {
   "cell_type": "markdown",
   "id": "b8f0c2ea-85d0-433f-a7a1-90d9e2ba7039",
   "metadata": {},
   "source": [
    "for loop\n"
   ]
  },
  {
   "cell_type": "code",
   "execution_count": 1,
   "id": "8cd5aa20-524e-47da-bf03-b9be0dae4c47",
   "metadata": {},
   "outputs": [],
   "source": [
    "l =[1,2,4,5,6,7,8]"
   ]
  },
  {
   "cell_type": "code",
   "execution_count": 4,
   "id": "e6bb5f75-86b3-4775-8f12-c5282a2a942c",
   "metadata": {},
   "outputs": [
    {
     "name": "stdout",
     "output_type": "stream",
     "text": [
      "1 <class 'int'>\n",
      "2 <class 'int'>\n",
      "4 <class 'int'>\n",
      "5 <class 'int'>\n",
      "6 <class 'int'>\n",
      "7 <class 'int'>\n",
      "8 <class 'int'>\n"
     ]
    }
   ],
   "source": [
    "for i in l:\n",
    "    print(i,type(i))"
   ]
  },
  {
   "cell_type": "code",
   "execution_count": 5,
   "id": "5a2d6d64-b686-47bf-ab4d-7c094babc3ff",
   "metadata": {},
   "outputs": [],
   "source": [
    "l1 = [\"naresh\", \"mahesh\",\"ramesh\", \"gym\"]"
   ]
  },
  {
   "cell_type": "code",
   "execution_count": 8,
   "id": "2950898e-6f7a-433f-8f68-14b5c5ea6443",
   "metadata": {},
   "outputs": [
    {
     "name": "stdout",
     "output_type": "stream",
     "text": [
      "naresh\n",
      "mahesh\n",
      "ramesh\n",
      "gym\n"
     ]
    }
   ],
   "source": [
    "for i in  l1:\n",
    "    print(i)"
   ]
  },
  {
   "cell_type": "code",
   "execution_count": 9,
   "id": "7d14ce3f-14de-4fbb-a838-c424bf0d4b34",
   "metadata": {},
   "outputs": [
    {
     "data": {
      "text/plain": [
       "['naresh', 'mahesh', 'ramesh', 'gym']"
      ]
     },
     "execution_count": 9,
     "metadata": {},
     "output_type": "execute_result"
    }
   ],
   "source": [
    "l1"
   ]
  },
  {
   "cell_type": "code",
   "execution_count": 10,
   "id": "8c470881-4baf-4699-bcf1-9e4d327f25c7",
   "metadata": {},
   "outputs": [
    {
     "name": "stdout",
     "output_type": "stream",
     "text": [
      "naresh\n",
      "mahesh\n",
      "ramesh\n",
      "gym\n",
      "do something\n"
     ]
    }
   ],
   "source": [
    "for i in l1 :\n",
    "    print(i)\n",
    "else:\n",
    "    print(\"do something\")"
   ]
  },
  {
   "cell_type": "code",
   "execution_count": 11,
   "id": "4b339ca8-e780-46c5-8292-8d6c756d2b94",
   "metadata": {},
   "outputs": [
    {
     "data": {
      "text/plain": [
       "['naresh', 'mahesh', 'ramesh', 'gym']"
      ]
     },
     "execution_count": 11,
     "metadata": {},
     "output_type": "execute_result"
    }
   ],
   "source": [
    "l1"
   ]
  },
  {
   "cell_type": "code",
   "execution_count": 15,
   "id": "35e7b30e-bf58-44b6-be51-6987bfb7f89b",
   "metadata": {},
   "outputs": [
    {
     "name": "stdout",
     "output_type": "stream",
     "text": [
      "naresh\n"
     ]
    }
   ],
   "source": [
    "for i in l1:\n",
    "    if i == \"mahesh\":\n",
    "        break\n",
    "    print(i)"
   ]
  },
  {
   "cell_type": "code",
   "execution_count": 16,
   "id": "d7e71c10-07f6-42d7-a375-ef31aa855c07",
   "metadata": {},
   "outputs": [
    {
     "data": {
      "text/plain": [
       "['naresh', 'mahesh', 'ramesh', 'gym']"
      ]
     },
     "execution_count": 16,
     "metadata": {},
     "output_type": "execute_result"
    }
   ],
   "source": [
    "l1"
   ]
  },
  {
   "cell_type": "code",
   "execution_count": 20,
   "id": "8178c92f-0fc4-4840-952e-6791149c3b75",
   "metadata": {},
   "outputs": [
    {
     "name": "stdout",
     "output_type": "stream",
     "text": [
      "naresh\n"
     ]
    }
   ],
   "source": [
    "for i in l1:\n",
    "    if i ==\"mahesh\":\n",
    "        break\n",
    "    print(i)\n",
    "else:\n",
    "    print(\"my name is naresh\")"
   ]
  },
  {
   "cell_type": "code",
   "execution_count": 21,
   "id": "3ab20b5c-d9ad-4e6e-b71e-b956df475379",
   "metadata": {},
   "outputs": [
    {
     "data": {
      "text/plain": [
       "['naresh', 'mahesh', 'ramesh', 'gym']"
      ]
     },
     "execution_count": 21,
     "metadata": {},
     "output_type": "execute_result"
    }
   ],
   "source": [
    "l1"
   ]
  },
  {
   "cell_type": "code",
   "execution_count": 22,
   "id": "c3431951-74d7-4494-be1d-99bb7aa27692",
   "metadata": {},
   "outputs": [
    {
     "name": "stdout",
     "output_type": "stream",
     "text": [
      "naresh\n",
      "ramesh\n",
      "gym\n"
     ]
    }
   ],
   "source": [
    "for i in l1:\n",
    "    if i ==\"mahesh\":\n",
    "         continue\n",
    "    print(i)"
   ]
  },
  {
   "cell_type": "code",
   "execution_count": 23,
   "id": "50ebf627-a050-4a0c-a0b6-747481217012",
   "metadata": {},
   "outputs": [
    {
     "data": {
      "text/plain": [
       "range(0, 6)"
      ]
     },
     "execution_count": 23,
     "metadata": {},
     "output_type": "execute_result"
    }
   ],
   "source": [
    "range(6)"
   ]
  },
  {
   "cell_type": "code",
   "execution_count": 24,
   "id": "60666e0d-6cca-4c5d-8951-0cbf4e7a77e4",
   "metadata": {},
   "outputs": [
    {
     "data": {
      "text/plain": [
       "[0, 1, 2, 3, 4, 5]"
      ]
     },
     "execution_count": 24,
     "metadata": {},
     "output_type": "execute_result"
    }
   ],
   "source": [
    "list(range(6))"
   ]
  },
  {
   "cell_type": "code",
   "execution_count": 27,
   "id": "2744a5da-5440-48dc-9ccf-85fc7fbeba45",
   "metadata": {},
   "outputs": [
    {
     "data": {
      "text/plain": [
       "[0]"
      ]
     },
     "execution_count": 27,
     "metadata": {},
     "output_type": "execute_result"
    }
   ],
   "source": [
    "list(range(0,4,6))"
   ]
  },
  {
   "cell_type": "code",
   "execution_count": 28,
   "id": "e31d6bf6-1d1e-4383-9551-16bcb97f8348",
   "metadata": {},
   "outputs": [
    {
     "data": {
      "text/plain": [
       "[0, 3, 6, 9, 12, 15, 18]"
      ]
     },
     "execution_count": 28,
     "metadata": {},
     "output_type": "execute_result"
    }
   ],
   "source": [
    "list(range(0,20,3))"
   ]
  },
  {
   "cell_type": "code",
   "execution_count": 29,
   "id": "66f13280-6765-4fb3-8c90-1a6de1aff21d",
   "metadata": {},
   "outputs": [
    {
     "data": {
      "text/plain": [
       "[-10, -9, -8, -7, -6, -5, -4, -3, -2, -1]"
      ]
     },
     "execution_count": 29,
     "metadata": {},
     "output_type": "execute_result"
    }
   ],
   "source": [
    "list(range(-10,0))"
   ]
  },
  {
   "cell_type": "code",
   "execution_count": null,
   "id": "6e7c9c67-4cbd-48bc-b582-232cb743c6c8",
   "metadata": {},
   "outputs": [
    {
     "data": {
      "text/plain": [
       "['naresh', 'mahesh', 'ramesh', 'gym']"
      ]
     },
     "execution_count": 30,
     "metadata": {},
     "output_type": "execute_result"
    }
   ],
   "source": [
    "l1"
   ]
  },
  {
   "cell_type": "code",
   "execution_count": 33,
   "id": "adf5b297-0c32-4cf0-9a6c-0c9baeed3aa3",
   "metadata": {},
   "outputs": [
    {
     "data": {
      "text/plain": [
       "[0, 1, 2, 3]"
      ]
     },
     "execution_count": 33,
     "metadata": {},
     "output_type": "execute_result"
    }
   ],
   "source": [
    "list(range(len(l1)))"
   ]
  },
  {
   "cell_type": "code",
   "execution_count": 35,
   "id": "98fe93e1-0795-420f-af2b-521074dfebc9",
   "metadata": {},
   "outputs": [
    {
     "name": "stdout",
     "output_type": "stream",
     "text": [
      "naresh\n",
      "mahesh\n",
      "ramesh\n",
      "gym\n"
     ]
    }
   ],
   "source": [
    "for i in range(len(l1)) :\n",
    "    print(l1[i])"
   ]
  },
  {
   "cell_type": "code",
   "execution_count": 36,
   "id": "3d101100-2464-47b1-a714-48538cc5c255",
   "metadata": {},
   "outputs": [
    {
     "data": {
      "text/plain": [
       "4"
      ]
     },
     "execution_count": 36,
     "metadata": {},
     "output_type": "execute_result"
    }
   ],
   "source": [
    "len(l1)"
   ]
  },
  {
   "cell_type": "code",
   "execution_count": 41,
   "id": "8674ebbe-dd96-40e2-acd4-8720c0457be9",
   "metadata": {},
   "outputs": [
    {
     "data": {
      "text/plain": [
       "[3, 2, 1, 0]"
      ]
     },
     "execution_count": 41,
     "metadata": {},
     "output_type": "execute_result"
    }
   ],
   "source": [
    "list(range(len(l1)-1,-1,-1))"
   ]
  },
  {
   "cell_type": "code",
   "execution_count": 39,
   "id": "769dc7bb-2d4c-4af5-8a7b-ac74f332e32b",
   "metadata": {},
   "outputs": [
    {
     "data": {
      "text/plain": [
       "['naresh', 'mahesh', 'ramesh', 'gym']"
      ]
     },
     "execution_count": 39,
     "metadata": {},
     "output_type": "execute_result"
    }
   ],
   "source": [
    "l1"
   ]
  },
  {
   "cell_type": "code",
   "execution_count": 42,
   "id": "80b9b6db-838b-4e4e-bcd5-6422c0a93bd6",
   "metadata": {},
   "outputs": [
    {
     "name": "stdout",
     "output_type": "stream",
     "text": [
      "gym\n",
      "ramesh\n",
      "mahesh\n",
      "naresh\n"
     ]
    }
   ],
   "source": [
    "for i in range(len(l1)-1,-1,-1):\n",
    "    print(l1[i])"
   ]
  },
  {
   "cell_type": "code",
   "execution_count": 43,
   "id": "d5e63348-c4da-4bd1-847d-219daa12760f",
   "metadata": {},
   "outputs": [
    {
     "name": "stdout",
     "output_type": "stream",
     "text": [
      "gym\n",
      "ramesh\n",
      "mahesh\n",
      "naresh\n"
     ]
    }
   ],
   "source": [
    "for i in [3,2,1,0]:\n",
    "    print(l1[i])"
   ]
  },
  {
   "cell_type": "code",
   "execution_count": 44,
   "id": "43e86f4d-5f4d-4387-a151-9bbdb40ffc77",
   "metadata": {},
   "outputs": [],
   "source": [
    "l2 = {2,33,435,465,57,8,7687,897}"
   ]
  },
  {
   "cell_type": "code",
   "execution_count": 45,
   "id": "e703e641-00b1-4a0a-9bda-7564c6dd3585",
   "metadata": {},
   "outputs": [
    {
     "data": {
      "text/plain": [
       "[0, 2, 4, 6]"
      ]
     },
     "execution_count": 45,
     "metadata": {},
     "output_type": "execute_result"
    }
   ],
   "source": [
    "list(range(0,len(l2),2))"
   ]
  },
  {
   "cell_type": "code",
   "execution_count": 52,
   "id": "7559c970-d2f1-4217-a177-8590ec09a2d2",
   "metadata": {},
   "outputs": [
    {
     "name": "stdout",
     "output_type": "stream",
     "text": [
      "naresh\n",
      "ramesh\n"
     ]
    }
   ],
   "source": [
    "for i in range (0, len(l1), 2):\n",
    "    print(l1[i])"
   ]
  },
  {
   "cell_type": "code",
   "execution_count": 53,
   "id": "e1258856-e469-45fe-aa60-77cafa901738",
   "metadata": {},
   "outputs": [
    {
     "data": {
      "text/plain": [
       "'naresh'"
      ]
     },
     "execution_count": 53,
     "metadata": {},
     "output_type": "execute_result"
    }
   ],
   "source": [
    "l1[0]"
   ]
  },
  {
   "cell_type": "code",
   "execution_count": 54,
   "id": "7cfa6afd-7909-4e11-b702-d80b602f5e53",
   "metadata": {},
   "outputs": [],
   "source": [
    "l = [1,2,3,4,5,67,7,88,9,89]"
   ]
  },
  {
   "cell_type": "code",
   "execution_count": 56,
   "id": "5bd26fd3-931a-47cf-ad1f-ff361f378cd4",
   "metadata": {},
   "outputs": [
    {
     "data": {
      "text/plain": [
       "275"
      ]
     },
     "execution_count": 56,
     "metadata": {},
     "output_type": "execute_result"
    }
   ],
   "source": [
    "sum(l)"
   ]
  },
  {
   "cell_type": "code",
   "execution_count": 58,
   "id": "05984fb9-23d5-4512-a79c-fd298e5b0694",
   "metadata": {},
   "outputs": [
    {
     "data": {
      "text/plain": [
       "275"
      ]
     },
     "execution_count": 58,
     "metadata": {},
     "output_type": "execute_result"
    }
   ],
   "source": [
    "result = 0 \n",
    "for i in l:\n",
    "    result = result+i\n",
    "result\n",
    "    "
   ]
  },
  {
   "cell_type": "code",
   "execution_count": 59,
   "id": "1c29779a-6165-4e7b-9190-0388cd729ff2",
   "metadata": {},
   "outputs": [],
   "source": [
    " t = (1,2,34546,56,768,65)"
   ]
  },
  {
   "cell_type": "code",
   "execution_count": 60,
   "id": "e52a9973-0a3a-4d6d-9be9-98d03e72a67e",
   "metadata": {},
   "outputs": [
    {
     "name": "stdout",
     "output_type": "stream",
     "text": [
      "1\n",
      "2\n",
      "34546\n",
      "56\n",
      "768\n",
      "65\n"
     ]
    }
   ],
   "source": [
    "for i in t:\n",
    "    print(i)"
   ]
  },
  {
   "cell_type": "code",
   "execution_count": null,
   "id": "f81ba8de-a2be-44a8-bdcd-3b8f203a7dab",
   "metadata": {},
   "outputs": [],
   "source": []
  },
  {
   "cell_type": "code",
   "execution_count": 61,
   "id": "2c1ed525-7f82-478a-9dad-98b0e4fda477",
   "metadata": {},
   "outputs": [
    {
     "data": {
      "text/plain": [
       "35438"
      ]
     },
     "execution_count": 61,
     "metadata": {},
     "output_type": "execute_result"
    }
   ],
   "source": [
    "result = 0 \n",
    "for i in t:\n",
    "    result = result+i\n",
    "result\n",
    "    "
   ]
  },
  {
   "cell_type": "code",
   "execution_count": 62,
   "id": "4b01fdea-70ea-499e-b409-d73817a70d70",
   "metadata": {},
   "outputs": [],
   "source": [
    "d ={\"name\":\"naresh\",\"class\":\"data science\",\n",
    "    \"topic\":[\"python\",\"stats\",\" machine learning\",\"DL\"]}"
   ]
  },
  {
   "cell_type": "code",
   "execution_count": 63,
   "id": "d3c92148-7671-4327-90f6-2a7eb36368b4",
   "metadata": {},
   "outputs": [
    {
     "data": {
      "text/plain": [
       "{'name': 'naresh',\n",
       " 'class': 'data science',\n",
       " 'topic': ['python', 'stats', ' machine learning', 'DL']}"
      ]
     },
     "execution_count": 63,
     "metadata": {},
     "output_type": "execute_result"
    }
   ],
   "source": [
    "d"
   ]
  },
  {
   "cell_type": "code",
   "execution_count": 64,
   "id": "7b3a2313-d05f-4c87-b593-03237a34d676",
   "metadata": {},
   "outputs": [
    {
     "data": {
      "text/plain": [
       "dict_keys(['name', 'class', 'topic'])"
      ]
     },
     "execution_count": 64,
     "metadata": {},
     "output_type": "execute_result"
    }
   ],
   "source": [
    "d.keys()"
   ]
  },
  {
   "cell_type": "code",
   "execution_count": 65,
   "id": "4001403b-5833-47ca-8b12-e2dd7cd0f4c6",
   "metadata": {},
   "outputs": [
    {
     "name": "stdout",
     "output_type": "stream",
     "text": [
      "naresh\n",
      "data science\n",
      "['python', 'stats', ' machine learning', 'DL']\n"
     ]
    }
   ],
   "source": [
    "for i in d.keys():\n",
    "    print(d[i])"
   ]
  },
  {
   "cell_type": "code",
   "execution_count": 66,
   "id": "06c0e915-e5ea-4ba5-b3ac-79fab87c9b82",
   "metadata": {},
   "outputs": [
    {
     "data": {
      "text/plain": [
       "dict_values(['naresh', 'data science', ['python', 'stats', ' machine learning', 'DL']])"
      ]
     },
     "execution_count": 66,
     "metadata": {},
     "output_type": "execute_result"
    }
   ],
   "source": [
    "d.values()"
   ]
  },
  {
   "cell_type": "code",
   "execution_count": 67,
   "id": "00863e0e-1702-4247-a8c9-ffaa7bf01edb",
   "metadata": {},
   "outputs": [
    {
     "name": "stdout",
     "output_type": "stream",
     "text": [
      "naresh\n",
      "data science\n",
      "['python', 'stats', ' machine learning', 'DL']\n"
     ]
    }
   ],
   "source": [
    "for i in d.values():\n",
    "    print(i)"
   ]
  },
  {
   "cell_type": "code",
   "execution_count": 68,
   "id": "37854bb1-2211-4b73-aa73-cbc3fe286421",
   "metadata": {},
   "outputs": [
    {
     "data": {
      "text/plain": [
       "dict_items([('name', 'naresh'), ('class', 'data science'), ('topic', ['python', 'stats', ' machine learning', 'DL'])])"
      ]
     },
     "execution_count": 68,
     "metadata": {},
     "output_type": "execute_result"
    }
   ],
   "source": [
    "d.items()"
   ]
  },
  {
   "cell_type": "code",
   "execution_count": null,
   "id": "42332870-c725-4cc7-b3dc-72d281f25dbe",
   "metadata": {},
   "outputs": [],
   "source": []
  }
 ],
 "metadata": {
  "kernelspec": {
   "display_name": "Python 3 (ipykernel)",
   "language": "python",
   "name": "python3"
  },
  "language_info": {
   "codemirror_mode": {
    "name": "ipython",
    "version": 3
   },
   "file_extension": ".py",
   "mimetype": "text/x-python",
   "name": "python",
   "nbconvert_exporter": "python",
   "pygments_lexer": "ipython3",
   "version": "3.10.8"
  }
 },
 "nbformat": 4,
 "nbformat_minor": 5
}
