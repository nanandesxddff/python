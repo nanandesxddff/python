{
 "cells": [
  {
   "cell_type": "code",
   "execution_count": 1,
   "id": "3e6f27f0-423f-4b9a-809a-a29e7cf05a98",
   "metadata": {},
   "outputs": [
    {
     "data": {
      "text/plain": [
       "str"
      ]
     },
     "execution_count": 1,
     "metadata": {},
     "output_type": "execute_result"
    }
   ],
   "source": [
    "n=' naresk'\n",
    "type(n)"
   ]
  },
  {
   "cell_type": "code",
   "execution_count": 2,
   "id": "baa1ac6f-969f-4c4b-9f5d-f0d65200243b",
   "metadata": {},
   "outputs": [
    {
     "data": {
      "text/plain": [
       "' rk'"
      ]
     },
     "execution_count": 2,
     "metadata": {},
     "output_type": "execute_result"
    }
   ],
   "source": [
    "n[::3]"
   ]
  },
  {
   "cell_type": "code",
   "execution_count": 3,
   "id": "8cef8c22-1b5b-42fa-8232-9ad287b5bad0",
   "metadata": {},
   "outputs": [
    {
     "data": {
      "text/plain": [
       "''"
      ]
     },
     "execution_count": 3,
     "metadata": {},
     "output_type": "execute_result"
    }
   ],
   "source": [
    "n[-1:-5:5]"
   ]
  },
  {
   "cell_type": "code",
   "execution_count": 4,
   "id": "47127823-e702-4dc2-8258-2f5f8c0af675",
   "metadata": {},
   "outputs": [],
   "source": [
    "s1='this is my first class'"
   ]
  },
  {
   "cell_type": "code",
   "execution_count": 5,
   "id": "e5ea64b8-5742-4115-b03a-bed2451f1582",
   "metadata": {},
   "outputs": [
    {
     "data": {
      "text/plain": [
       "22"
      ]
     },
     "execution_count": 5,
     "metadata": {},
     "output_type": "execute_result"
    }
   ],
   "source": [
    "len(s1)"
   ]
  },
  {
   "cell_type": "code",
   "execution_count": 6,
   "id": "3dfbaefd-34e9-496a-bf1e-89d3ad79d04d",
   "metadata": {},
   "outputs": [
    {
     "data": {
      "text/plain": [
       "3"
      ]
     },
     "execution_count": 6,
     "metadata": {},
     "output_type": "execute_result"
    }
   ],
   "source": [
    "s1.find('s')"
   ]
  },
  {
   "cell_type": "code",
   "execution_count": 7,
   "id": "31b17f5a-d2fc-4c7d-a9e8-9747498b2e6a",
   "metadata": {},
   "outputs": [
    {
     "data": {
      "text/plain": [
       "-1"
      ]
     },
     "execution_count": 7,
     "metadata": {},
     "output_type": "execute_result"
    }
   ],
   "source": [
    "s1.find('e')"
   ]
  },
  {
   "cell_type": "code",
   "execution_count": 10,
   "id": "78f20252-2470-4c7c-a3c6-7df42537fccf",
   "metadata": {},
   "outputs": [
    {
     "data": {
      "text/plain": [
       "2"
      ]
     },
     "execution_count": 10,
     "metadata": {},
     "output_type": "execute_result"
    }
   ],
   "source": [
    "s1.find('i')"
   ]
  },
  {
   "cell_type": "code",
   "execution_count": 11,
   "id": "2573db7b-1de5-49a0-8935-69f17395bb62",
   "metadata": {},
   "outputs": [
    {
     "data": {
      "text/plain": [
       "1"
      ]
     },
     "execution_count": 11,
     "metadata": {},
     "output_type": "execute_result"
    }
   ],
   "source": [
    "s1.count(\"st\")"
   ]
  },
  {
   "cell_type": "code",
   "execution_count": 12,
   "id": "dfcd9aa0-d1ee-4583-bae4-e457f7242810",
   "metadata": {},
   "outputs": [
    {
     "data": {
      "text/plain": [
       "0"
      ]
     },
     "execution_count": 12,
     "metadata": {},
     "output_type": "execute_result"
    }
   ],
   "source": [
    "s1.count(\"z\")"
   ]
  },
  {
   "cell_type": "code",
   "execution_count": 13,
   "id": "54098078-d002-4a38-9768-e0643cb07e89",
   "metadata": {},
   "outputs": [
    {
     "data": {
      "text/plain": [
       "'THIS IS MY FIRST CLASS'"
      ]
     },
     "execution_count": 13,
     "metadata": {},
     "output_type": "execute_result"
    }
   ],
   "source": [
    "s1.upper()"
   ]
  },
  {
   "cell_type": "code",
   "execution_count": 14,
   "id": "9e3068a9-114e-4bbc-9436-6aa2bb8be7d5",
   "metadata": {},
   "outputs": [],
   "source": [
    "s2='THIS IS MY FIRST CLASS'"
   ]
  },
  {
   "cell_type": "code",
   "execution_count": 15,
   "id": "9a363a26-6833-418d-9bb3-750288b84065",
   "metadata": {},
   "outputs": [
    {
     "data": {
      "text/plain": [
       "'this is my first class'"
      ]
     },
     "execution_count": 15,
     "metadata": {},
     "output_type": "execute_result"
    }
   ],
   "source": [
    "s2.lower()"
   ]
  },
  {
   "cell_type": "code",
   "execution_count": 16,
   "id": "7faf6b76-6576-437d-8045-e62e54266aa4",
   "metadata": {},
   "outputs": [
    {
     "data": {
      "text/plain": [
       "'This is my first class'"
      ]
     },
     "execution_count": 16,
     "metadata": {},
     "output_type": "execute_result"
    }
   ],
   "source": [
    "s1.capitalize()"
   ]
  },
  {
   "cell_type": "code",
   "execution_count": 21,
   "id": "ff47fcba-13f1-498e-9ab1-4a126d46769c",
   "metadata": {},
   "outputs": [
    {
     "data": {
      "text/plain": [
       "'s1s1s1s1s1'"
      ]
     },
     "execution_count": 21,
     "metadata": {},
     "output_type": "execute_result"
    }
   ],
   "source": [
    "'s1'*5"
   ]
  },
  {
   "cell_type": "code",
   "execution_count": 24,
   "id": "9f2d3350-e4a2-4907-87b7-243f71726190",
   "metadata": {},
   "outputs": [
    {
     "data": {
      "text/plain": [
       "'my name is anresh '"
      ]
     },
     "execution_count": 24,
     "metadata": {},
     "output_type": "execute_result"
    }
   ],
   "source": [
    "'my name is anresh '"
   ]
  },
  {
   "cell_type": "code",
   "execution_count": 26,
   "id": "e20feb2b-365b-4b90-ba6f-e03d987897ae",
   "metadata": {},
   "outputs": [
    {
     "data": {
      "text/plain": [
       "'this my last class of programming'"
      ]
     },
     "execution_count": 26,
     "metadata": {},
     "output_type": "execute_result"
    }
   ],
   "source": [
    "'this my last class of programming'"
   ]
  },
  {
   "cell_type": "code",
   "execution_count": 28,
   "id": "b8be4ba6-9c14-4057-b496-521feea7afa0",
   "metadata": {},
   "outputs": [
    {
     "data": {
      "text/plain": [
       "int"
      ]
     },
     "execution_count": 28,
     "metadata": {},
     "output_type": "execute_result"
    }
   ],
   "source": [
    "type(s1)"
   ]
  }
 ],
 "metadata": {
  "kernelspec": {
   "display_name": "Python 3 (ipykernel)",
   "language": "python",
   "name": "python3"
  },
  "language_info": {
   "codemirror_mode": {
    "name": "ipython",
    "version": 3
   },
   "file_extension": ".py",
   "mimetype": "text/x-python",
   "name": "python",
   "nbconvert_exporter": "python",
   "pygments_lexer": "ipython3",
   "version": "3.10.8"
  }
 },
 "nbformat": 4,
 "nbformat_minor": 5
}
