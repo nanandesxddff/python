{
 "cells": [
  {
   "cell_type": "code",
   "execution_count": 1,
   "id": "56c5d7be-950c-4487-969e-b9911e06b0f4",
   "metadata": {},
   "outputs": [],
   "source": [
    "n =3\n",
    "p =2\n"
   ]
  },
  {
   "cell_type": "code",
   "execution_count": 2,
   "id": "84a2f46b-808a-4a22-907e-dd88abf7b7fb",
   "metadata": {},
   "outputs": [],
   "source": [
    "def test(n,p):\n",
    "    return n**p"
   ]
  },
  {
   "cell_type": "code",
   "execution_count": 3,
   "id": "5db56a74-0aae-4d8d-adc0-edc9e7bdd229",
   "metadata": {},
   "outputs": [
    {
     "data": {
      "text/plain": [
       "81"
      ]
     },
     "execution_count": 3,
     "metadata": {},
     "output_type": "execute_result"
    }
   ],
   "source": [
    "test(3,4)"
   ]
  },
  {
   "cell_type": "code",
   "execution_count": 5,
   "id": "76562e6d-ad1d-48fd-acbd-627e1ed121f3",
   "metadata": {},
   "outputs": [],
   "source": [
    "a = lambda n,p:n**p"
   ]
  },
  {
   "cell_type": "code",
   "execution_count": 6,
   "id": "b02b9904-b61c-4fcf-9374-a81b1288e532",
   "metadata": {},
   "outputs": [
    {
     "name": "stdout",
     "output_type": "stream",
     "text": [
      "<function <lambda> at 0x7f3eb74bb640>\n"
     ]
    }
   ],
   "source": [
    "print(a)"
   ]
  },
  {
   "cell_type": "code",
   "execution_count": 7,
   "id": "70215d6f-6ce5-4ab4-9924-8fe04f58bd97",
   "metadata": {},
   "outputs": [
    {
     "data": {
      "text/plain": [
       "8"
      ]
     },
     "execution_count": 7,
     "metadata": {},
     "output_type": "execute_result"
    }
   ],
   "source": [
    "a(2,3)"
   ]
  },
  {
   "cell_type": "code",
   "execution_count": 12,
   "id": "44d630ff-2d7b-4d4b-91be-fe9c8a2db0da",
   "metadata": {},
   "outputs": [],
   "source": [
    "add = lambda x,y : x+y"
   ]
  },
  {
   "cell_type": "code",
   "execution_count": 13,
   "id": "07e9c53a-085d-4120-8d23-dda571549736",
   "metadata": {},
   "outputs": [
    {
     "data": {
      "text/plain": [
       "9"
      ]
     },
     "execution_count": 13,
     "metadata": {},
     "output_type": "execute_result"
    }
   ],
   "source": [
    "add(4,5)"
   ]
  },
  {
   "cell_type": "code",
   "execution_count": 15,
   "id": "42d30961-ee97-4f3e-9157-f0cef203a834",
   "metadata": {},
   "outputs": [],
   "source": [
    "c_to_f = lambda c : (9/5)*c +32"
   ]
  },
  {
   "cell_type": "code",
   "execution_count": 16,
   "id": "f0e9a74f-8d14-4a4a-ac66-ae2d807fb942",
   "metadata": {},
   "outputs": [
    {
     "data": {
      "text/plain": [
       "107.60000000000001"
      ]
     },
     "execution_count": 16,
     "metadata": {},
     "output_type": "execute_result"
    }
   ],
   "source": [
    "c_to_f(42)"
   ]
  },
  {
   "cell_type": "code",
   "execution_count": 17,
   "id": "c42c1921-fdf8-462b-81de-9c81bd306bd0",
   "metadata": {},
   "outputs": [],
   "source": [
    "finding_max = lambda x,y : x if x+y else y"
   ]
  },
  {
   "cell_type": "code",
   "execution_count": 18,
   "id": "4c0a2a4a-9345-408c-8fa1-00df4dec997d",
   "metadata": {},
   "outputs": [
    {
     "data": {
      "text/plain": [
       "34"
      ]
     },
     "execution_count": 18,
     "metadata": {},
     "output_type": "execute_result"
    }
   ],
   "source": [
    "finding_max(34,23)"
   ]
  },
  {
   "cell_type": "code",
   "execution_count": 19,
   "id": "8b3dfb75-1d2b-4970-b3dc-282fc3b06d7d",
   "metadata": {},
   "outputs": [],
   "source": [
    "s =\"pw skills \""
   ]
  },
  {
   "cell_type": "code",
   "execution_count": 20,
   "id": "197aff78-76bb-4e20-9f84-2fc96cb8514b",
   "metadata": {},
   "outputs": [],
   "source": [
    "find_len =lambda s : len(s)"
   ]
  },
  {
   "cell_type": "code",
   "execution_count": 21,
   "id": "56b47aef-2135-4f2d-b663-f20eb8949b40",
   "metadata": {},
   "outputs": [
    {
     "data": {
      "text/plain": [
       "10"
      ]
     },
     "execution_count": 21,
     "metadata": {},
     "output_type": "execute_result"
    }
   ],
   "source": [
    "find_len(s)"
   ]
  },
  {
   "cell_type": "code",
   "execution_count": null,
   "id": "36e09759-fed6-40d2-9565-ad3109ac562f",
   "metadata": {},
   "outputs": [],
   "source": []
  }
 ],
 "metadata": {
  "kernelspec": {
   "display_name": "Python 3 (ipykernel)",
   "language": "python",
   "name": "python3"
  },
  "language_info": {
   "codemirror_mode": {
    "name": "ipython",
    "version": 3
   },
   "file_extension": ".py",
   "mimetype": "text/x-python",
   "name": "python",
   "nbconvert_exporter": "python",
   "pygments_lexer": "ipython3",
   "version": "3.10.8"
  }
 },
 "nbformat": 4,
 "nbformat_minor": 5
}
