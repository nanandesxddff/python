{
 "cells": [
  {
   "cell_type": "code",
   "execution_count": 3,
   "id": "3691a865-0e55-4f07-9ac0-82b040203afd",
   "metadata": {},
   "outputs": [
    {
     "name": "stdout",
     "output_type": "stream",
     "text": [
      "1\n",
      "2\n",
      "3\n",
      "4\n",
      "5\n",
      "6\n",
      "7\n",
      "8\n",
      "9\n",
      "10\n"
     ]
    }
   ],
   "source": [
    "a= 1\n",
    "while a <=10:\n",
    "    print(a)\n",
    "    a =a+1"
   ]
  },
  {
   "cell_type": "code",
   "execution_count": null,
   "id": "d9958a93-ed81-4d84-b6df-c1a9c779f21e",
   "metadata": {},
   "outputs": [],
   "source": []
  },
  {
   "cell_type": "code",
   "execution_count": 5,
   "id": "ffee9e1a-3004-4f44-adbd-7e1270c46513",
   "metadata": {},
   "outputs": [],
   "source": [
    "#sum up the number till some point"
   ]
  },
  {
   "cell_type": "code",
   "execution_count": 11,
   "id": "65b69aca-fd17-435f-8a11-d7df9e8e1662",
   "metadata": {},
   "outputs": [
    {
     "name": "stdin",
     "output_type": "stream",
     "text": [
      "enter your limit 34\n"
     ]
    },
    {
     "data": {
      "text/plain": [
       "595"
      ]
     },
     "execution_count": 11,
     "metadata": {},
     "output_type": "execute_result"
    }
   ],
   "source": [
    "n = int(input(\"enter your limit\"))\n",
    "starting_point = 0\n",
    "counter = 1\n",
    "\n",
    "while counter <= n:\n",
    "    starting_point = starting_point + counter\n",
    "    counter = counter +1\n",
    "starting_point"
   ]
  },
  {
   "cell_type": "code",
   "execution_count": null,
   "id": "d8dcbf71-ef9d-4689-be8e-103b1c94a0b2",
   "metadata": {},
   "outputs": [],
   "source": [
    "# factorial"
   ]
  },
  {
   "cell_type": "code",
   "execution_count": 10,
   "id": "dcff0e25-2ef1-4553-9af5-f1574bcd259a",
   "metadata": {},
   "outputs": [
    {
     "name": "stdin",
     "output_type": "stream",
     "text": [
      "enter your number 4\n"
     ]
    },
    {
     "data": {
      "text/plain": [
       "24"
      ]
     },
     "execution_count": 10,
     "metadata": {},
     "output_type": "execute_result"
    }
   ],
   "source": [
    "number = int(input(\"enter your number\"))\n",
    "factorial =1\n",
    "while number > 0 :\n",
    "    factorial = factorial*number\n",
    "    number = number-1\n",
    "factorial\n",
    "    "
   ]
  },
  {
   "cell_type": "code",
   "execution_count": 12,
   "id": "d8adf062-ef21-492c-b7a8-4d3e3e35a775",
   "metadata": {},
   "outputs": [],
   "source": [
    "#finonacci series"
   ]
  },
  {
   "cell_type": "code",
   "execution_count": 15,
   "id": "2716a305-aab2-4b3b-ab38-498c2e2367f2",
   "metadata": {},
   "outputs": [
    {
     "name": "stdin",
     "output_type": "stream",
     "text": [
      "enter your number of element you are looking for 65\n"
     ]
    },
    {
     "name": "stdout",
     "output_type": "stream",
     "text": [
      "0\n",
      "1\n",
      "1\n",
      "2\n",
      "3\n",
      "5\n",
      "8\n",
      "13\n",
      "21\n",
      "34\n",
      "55\n",
      "89\n",
      "144\n",
      "233\n",
      "377\n",
      "610\n",
      "987\n",
      "1597\n",
      "2584\n",
      "4181\n",
      "6765\n",
      "10946\n",
      "17711\n",
      "28657\n",
      "46368\n",
      "75025\n",
      "121393\n",
      "196418\n",
      "317811\n",
      "514229\n",
      "832040\n",
      "1346269\n",
      "2178309\n",
      "3524578\n",
      "5702887\n",
      "9227465\n",
      "14930352\n",
      "24157817\n",
      "39088169\n",
      "63245986\n",
      "102334155\n",
      "165580141\n",
      "267914296\n",
      "433494437\n",
      "701408733\n",
      "1134903170\n",
      "1836311903\n",
      "2971215073\n",
      "4807526976\n",
      "7778742049\n",
      "12586269025\n",
      "20365011074\n",
      "32951280099\n",
      "53316291173\n",
      "86267571272\n",
      "139583862445\n",
      "225851433717\n",
      "365435296162\n",
      "591286729879\n",
      "956722026041\n",
      "1548008755920\n",
      "2504730781961\n",
      "4052739537881\n",
      "6557470319842\n",
      "10610209857723\n"
     ]
    }
   ],
   "source": [
    "number = int(input(\"enter your number of element you are looking for\"))\n",
    "a , b = 0,1\n",
    "counter = 0\n",
    "while counter < number :\n",
    "    print(a)\n",
    "    c = a+b\n",
    "    a = b\n",
    "    b = c\n",
    "    counter =counter +1"
   ]
  },
  {
   "cell_type": "code",
   "execution_count": 18,
   "id": "e0137b80-1610-4f89-a162-de86a73ac5ed",
   "metadata": {},
   "outputs": [
    {
     "name": "stdout",
     "output_type": "stream",
     "text": [
      "0\n",
      "1\n",
      "1\n",
      "2\n",
      "3\n",
      "5\n",
      "8\n",
      "13\n",
      "21\n",
      "34\n"
     ]
    }
   ],
   "source": [
    "a , b = 0,1\n",
    "for i in range (10) :\n",
    "      print(a)\n",
    "      c = a+b\n",
    "      a = b\n",
    "      b = c"
   ]
  },
  {
   "cell_type": "code",
   "execution_count": 19,
   "id": "d4497bdd-f925-4acf-9e91-24a99bedb2d8",
   "metadata": {},
   "outputs": [],
   "source": [
    "s = \"naresh\"\n"
   ]
  },
  {
   "cell_type": "code",
   "execution_count": 20,
   "id": "4bcb6c11-1be0-491e-840d-2a3657e257b6",
   "metadata": {},
   "outputs": [
    {
     "data": {
      "text/plain": [
       "'hseran'"
      ]
     },
     "execution_count": 20,
     "metadata": {},
     "output_type": "execute_result"
    }
   ],
   "source": [
    "s[::-1]"
   ]
  },
  {
   "cell_type": "code",
   "execution_count": 21,
   "id": "78344dc5-21c8-4511-b159-8ea6d1c230ca",
   "metadata": {},
   "outputs": [
    {
     "name": "stdin",
     "output_type": "stream",
     "text": [
      "enter your string for reverse naresh\n"
     ]
    }
   ],
   "source": [
    "word = input (\"enter your string for reverse\")\n"
   ]
  },
  {
   "cell_type": "code",
   "execution_count": 22,
   "id": "f8724777-8e19-48f0-b747-d9344ebd44f8",
   "metadata": {},
   "outputs": [
    {
     "name": "stdout",
     "output_type": "stream",
     "text": [
      "hseran\n"
     ]
    }
   ],
   "source": [
    "reverse =\"\"\n",
    "length =len(word)\n",
    "while  length > 0 :\n",
    "    reverse = reverse + word[length -1]\n",
    "    length = length -1\n",
    "print(reverse)"
   ]
  },
  {
   "cell_type": "code",
   "execution_count": 23,
   "id": "84450a1a-1963-4b1a-a319-adc3e7612eb7",
   "metadata": {},
   "outputs": [],
   "source": [
    "# print table of numbers\n"
   ]
  },
  {
   "cell_type": "code",
   "execution_count": 2,
   "id": "7588e4ff-5a43-48bf-bd1d-7b9e421e02a6",
   "metadata": {},
   "outputs": [
    {
     "name": "stdin",
     "output_type": "stream",
     "text": [
      "enter your number 2\n"
     ]
    },
    {
     "name": "stdout",
     "output_type": "stream",
     "text": [
      "2 * 1 = 2\n",
      "2 * 2 = 4\n",
      "2 * 3 = 6\n",
      "2 * 4 = 8\n",
      "2 * 5 = 10\n",
      "2 * 6 = 12\n",
      "2 * 7 = 14\n",
      "2 * 8 = 16\n",
      "2 * 9 = 18\n",
      "2 * 10 = 20\n"
     ]
    }
   ],
   "source": [
    "n = int(input(\"enter your number\"))\n",
    "i =1\n",
    "\n",
    "while i <= 10 :\n",
    "    result = n*i\n",
    "    print(n,\"*\", i,\"=\",result)\n",
    "    i = i+1\n",
    "    "
   ]
  },
  {
   "cell_type": "code",
   "execution_count": 4,
   "id": "ee6e8999-f194-46f8-9e30-93f84b44b11e",
   "metadata": {},
   "outputs": [
    {
     "name": "stdout",
     "output_type": "stream",
     "text": [
      "1\n",
      "2\n",
      "3\n",
      "4\n",
      "this will be executed once your while complete it sucessfully\n"
     ]
    }
   ],
   "source": [
    "n =5\n",
    "i =1\n",
    "while i<n :\n",
    "    print(i)\n",
    "    i =i+1\n",
    "else :\n",
    "        print(\"this will be executed once your while complete it sucessfully\")"
   ]
  },
  {
   "cell_type": "code",
   "execution_count": 5,
   "id": "4419f094-40d7-4473-8a4f-dd0ef8da32af",
   "metadata": {},
   "outputs": [
    {
     "name": "stdout",
     "output_type": "stream",
     "text": [
      "1\n"
     ]
    }
   ],
   "source": [
    "n =5\n",
    "i =1\n",
    "while i<n :\n",
    "    print(i)\n",
    "    break\n",
    "    i =i+1\n",
    "else :\n",
    "        print(\"this will be executed once your while complete it sucessfully\")"
   ]
  },
  {
   "cell_type": "code",
   "execution_count": null,
   "id": "45c664f4-f27a-4a67-8324-809e5d04bb89",
   "metadata": {},
   "outputs": [],
   "source": []
  },
  {
   "cell_type": "code",
   "execution_count": null,
   "id": "669759a3-7a0b-4d3d-bf75-111c58992e62",
   "metadata": {},
   "outputs": [],
   "source": []
  }
 ],
 "metadata": {
  "kernelspec": {
   "display_name": "Python 3 (ipykernel)",
   "language": "python",
   "name": "python3"
  },
  "language_info": {
   "codemirror_mode": {
    "name": "ipython",
    "version": 3
   },
   "file_extension": ".py",
   "mimetype": "text/x-python",
   "name": "python",
   "nbconvert_exporter": "python",
   "pygments_lexer": "ipython3",
   "version": "3.10.8"
  }
 },
 "nbformat": 4,
 "nbformat_minor": 5
}
