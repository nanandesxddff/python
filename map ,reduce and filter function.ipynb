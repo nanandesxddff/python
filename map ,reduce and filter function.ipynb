{
 "cells": [
  {
   "cell_type": "code",
   "execution_count": 2,
   "id": "21a766bd-deb5-4efa-8a13-4e2595762d7c",
   "metadata": {},
   "outputs": [],
   "source": [
    "l = [2,3,4,5,6,7]"
   ]
  },
  {
   "cell_type": "code",
   "execution_count": 3,
   "id": "12b250ab-cced-48b0-96bb-ff63d85a6c01",
   "metadata": {},
   "outputs": [],
   "source": [
    "def test(l):\n",
    "    l1 = []\n",
    "    for i in l:\n",
    "        l1.append(i**2)\n",
    "    return l1    "
   ]
  },
  {
   "cell_type": "code",
   "execution_count": 4,
   "id": "b2454980-3fe2-43e1-9e2f-ec26f831e920",
   "metadata": {},
   "outputs": [
    {
     "data": {
      "text/plain": [
       "[4, 9, 16, 25, 36, 49]"
      ]
     },
     "execution_count": 4,
     "metadata": {},
     "output_type": "execute_result"
    }
   ],
   "source": [
    "test(l)"
   ]
  },
  {
   "cell_type": "code",
   "execution_count": 6,
   "id": "b2cb6187-3fad-4858-9eae-2d99181fb0df",
   "metadata": {},
   "outputs": [],
   "source": [
    "def sq(x):\n",
    "    return x**2"
   ]
  },
  {
   "cell_type": "code",
   "execution_count": 7,
   "id": "d7ee182b-20d8-4d82-80d9-0d362f561969",
   "metadata": {},
   "outputs": [
    {
     "data": {
      "text/plain": [
       "[4, 9, 16, 25, 36, 49]"
      ]
     },
     "execution_count": 7,
     "metadata": {},
     "output_type": "execute_result"
    }
   ],
   "source": [
    "list(map(sq,l))"
   ]
  },
  {
   "cell_type": "code",
   "execution_count": 8,
   "id": "9dd12b8a-4e6d-485b-8c4f-00a5d93ec1aa",
   "metadata": {},
   "outputs": [
    {
     "data": {
      "text/plain": [
       "[4, 9, 16, 25, 36, 49]"
      ]
     },
     "execution_count": 8,
     "metadata": {},
     "output_type": "execute_result"
    }
   ],
   "source": [
    "list(map(lambda x: x**2,l))"
   ]
  },
  {
   "cell_type": "code",
   "execution_count": 9,
   "id": "4df80ee4-f225-46de-bc01-277e4f45ccd3",
   "metadata": {},
   "outputs": [
    {
     "data": {
      "text/plain": [
       "[8, 10, 12, 25, 16]"
      ]
     },
     "execution_count": 9,
     "metadata": {},
     "output_type": "execute_result"
    }
   ],
   "source": [
    "l1 =[1,2,3,4,5,6]\n",
    "l2 =[7,8,9,21,11]\n",
    "\n",
    "list(map(lambda x,y : x+y ,l1 ,l2))"
   ]
  },
  {
   "cell_type": "code",
   "execution_count": 10,
   "id": "cb3a30b9-3d51-47a9-8b31-f6a9d347d8fb",
   "metadata": {},
   "outputs": [],
   "source": [
    "def add(x,y):\n",
    "    return x+y"
   ]
  },
  {
   "cell_type": "code",
   "execution_count": 12,
   "id": "bb38a6b9-1a6a-4993-889d-e94a0d5934a8",
   "metadata": {},
   "outputs": [
    {
     "data": {
      "text/plain": [
       "[8, 10, 12, 25, 16]"
      ]
     },
     "execution_count": 12,
     "metadata": {},
     "output_type": "execute_result"
    }
   ],
   "source": [
    "\n",
    "list(map(add ,l1 ,l2))"
   ]
  },
  {
   "cell_type": "code",
   "execution_count": 14,
   "id": "697d762a-af6b-4f4f-83ab-db9c20adc6e1",
   "metadata": {},
   "outputs": [
    {
     "data": {
      "text/plain": [
       "['P', 'W', 'S', 'K', 'I', 'L', 'L', 'S', ' ']"
      ]
     },
     "execution_count": 14,
     "metadata": {},
     "output_type": "execute_result"
    }
   ],
   "source": [
    "s =\"pwskills \"\n",
    "list(map(lambda s: s.upper() ,s))"
   ]
  },
  {
   "cell_type": "code",
   "execution_count": 16,
   "id": "456e33f1-c96a-4045-bf35-9072925f4477",
   "metadata": {},
   "outputs": [],
   "source": [
    "from functools import reduce "
   ]
  },
  {
   "cell_type": "code",
   "execution_count": 17,
   "id": "0e1efb4f-a688-4d8c-b414-71fac188b983",
   "metadata": {},
   "outputs": [],
   "source": [
    "l = [1,2,3,45,6,77]"
   ]
  },
  {
   "cell_type": "code",
   "execution_count": 18,
   "id": "56602df8-03e1-478d-a30b-077f76098ab9",
   "metadata": {},
   "outputs": [
    {
     "data": {
      "text/plain": [
       "134"
      ]
     },
     "execution_count": 18,
     "metadata": {},
     "output_type": "execute_result"
    }
   ],
   "source": [
    "reduce(lambda x,y : x+y ,l)"
   ]
  },
  {
   "cell_type": "code",
   "execution_count": 20,
   "id": "663f8cfa-adcb-4df6-9905-89d7e517f8c3",
   "metadata": {},
   "outputs": [
    {
     "data": {
      "text/plain": [
       "1"
      ]
     },
     "execution_count": 20,
     "metadata": {},
     "output_type": "execute_result"
    }
   ],
   "source": [
    "reduce(lambda x,y : x+y ,[1])"
   ]
  },
  {
   "cell_type": "code",
   "execution_count": 21,
   "id": "cf062352-8f0c-4551-9595-7b56fde8c883",
   "metadata": {},
   "outputs": [
    {
     "data": {
      "text/plain": [
       "124740"
      ]
     },
     "execution_count": 21,
     "metadata": {},
     "output_type": "execute_result"
    }
   ],
   "source": [
    "reduce (lambda x,y : x*y,l)"
   ]
  },
  {
   "cell_type": "code",
   "execution_count": 22,
   "id": "969758b6-4b17-4744-bf0d-4520730d9d46",
   "metadata": {},
   "outputs": [
    {
     "data": {
      "text/plain": [
       "[1, 2, 3, 45, 6, 77]"
      ]
     },
     "execution_count": 22,
     "metadata": {},
     "output_type": "execute_result"
    }
   ],
   "source": [
    "l"
   ]
  },
  {
   "cell_type": "code",
   "execution_count": 23,
   "id": "d52c55bf-637f-41f9-9280-5e7f5b630dd3",
   "metadata": {},
   "outputs": [
    {
     "data": {
      "text/plain": [
       "77"
      ]
     },
     "execution_count": 23,
     "metadata": {},
     "output_type": "execute_result"
    }
   ],
   "source": [
    "reduce(lambda x,y : x if x>y else y,l)"
   ]
  },
  {
   "cell_type": "code",
   "execution_count": 27,
   "id": "20adc9fe-8577-49a3-a8b2-cf5b798ef30d",
   "metadata": {},
   "outputs": [
    {
     "data": {
      "text/plain": [
       "[2, 6]"
      ]
     },
     "execution_count": 27,
     "metadata": {},
     "output_type": "execute_result"
    }
   ],
   "source": [
    "list(filter(lambda x : x % 2  == 0 ,l))"
   ]
  },
  {
   "cell_type": "code",
   "execution_count": 29,
   "id": "5877cd59-773c-4774-a817-3e902c27b9c6",
   "metadata": {},
   "outputs": [
    {
     "data": {
      "text/plain": [
       "[]"
      ]
     },
     "execution_count": 29,
     "metadata": {},
     "output_type": "execute_result"
    }
   ],
   "source": [
    "list(filter(lambda x: x<0 , l1))"
   ]
  },
  {
   "cell_type": "code",
   "execution_count": 30,
   "id": "fbf13c8c-759d-4a89-b0bf-5abaef21bd34",
   "metadata": {},
   "outputs": [],
   "source": [
    "l2 =[\"naresh\",\"pwskills\",\"yadav\",\"bhiwani\",\"ram\"]"
   ]
  },
  {
   "cell_type": "code",
   "execution_count": 31,
   "id": "0cfa2059-a35c-4345-b62d-a9e139be6f60",
   "metadata": {},
   "outputs": [
    {
     "data": {
      "text/plain": [
       "['yadav', 'ram']"
      ]
     },
     "execution_count": 31,
     "metadata": {},
     "output_type": "execute_result"
    }
   ],
   "source": [
    "list(filter(lambda x :len(x) < 6,l2))"
   ]
  },
  {
   "cell_type": "code",
   "execution_count": null,
   "id": "ab7939aa-ce31-47b2-abe7-bd88fb06190d",
   "metadata": {},
   "outputs": [],
   "source": []
  }
 ],
 "metadata": {
  "kernelspec": {
   "display_name": "Python 3 (ipykernel)",
   "language": "python",
   "name": "python3"
  },
  "language_info": {
   "codemirror_mode": {
    "name": "ipython",
    "version": 3
   },
   "file_extension": ".py",
   "mimetype": "text/x-python",
   "name": "python",
   "nbconvert_exporter": "python",
   "pygments_lexer": "ipython3",
   "version": "3.10.8"
  }
 },
 "nbformat": 4,
 "nbformat_minor": 5
}
